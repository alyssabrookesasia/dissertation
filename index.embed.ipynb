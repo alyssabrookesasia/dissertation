{
 "cells": [
  {
   "cell_type": "markdown",
   "metadata": {},
   "source": [
    "# Dissertation proposal\n",
    "\n",
    "A. Brooke Sasia [![](data:image/png;base64,iVBORw0KGgoAAAANSUhEUgAAABAAAAAQCAYAAAAf8/9hAAAAGXRFWHRTb2Z0d2FyZQBBZG9iZSBJbWFnZVJlYWR5ccllPAAAA2ZpVFh0WE1MOmNvbS5hZG9iZS54bXAAAAAAADw/eHBhY2tldCBiZWdpbj0i77u/IiBpZD0iVzVNME1wQ2VoaUh6cmVTek5UY3prYzlkIj8+IDx4OnhtcG1ldGEgeG1sbnM6eD0iYWRvYmU6bnM6bWV0YS8iIHg6eG1wdGs9IkFkb2JlIFhNUCBDb3JlIDUuMC1jMDYwIDYxLjEzNDc3NywgMjAxMC8wMi8xMi0xNzozMjowMCAgICAgICAgIj4gPHJkZjpSREYgeG1sbnM6cmRmPSJodHRwOi8vd3d3LnczLm9yZy8xOTk5LzAyLzIyLXJkZi1zeW50YXgtbnMjIj4gPHJkZjpEZXNjcmlwdGlvbiByZGY6YWJvdXQ9IiIgeG1sbnM6eG1wTU09Imh0dHA6Ly9ucy5hZG9iZS5jb20veGFwLzEuMC9tbS8iIHhtbG5zOnN0UmVmPSJodHRwOi8vbnMuYWRvYmUuY29tL3hhcC8xLjAvc1R5cGUvUmVzb3VyY2VSZWYjIiB4bWxuczp4bXA9Imh0dHA6Ly9ucy5hZG9iZS5jb20veGFwLzEuMC8iIHhtcE1NOk9yaWdpbmFsRG9jdW1lbnRJRD0ieG1wLmRpZDo1N0NEMjA4MDI1MjA2ODExOTk0QzkzNTEzRjZEQTg1NyIgeG1wTU06RG9jdW1lbnRJRD0ieG1wLmRpZDozM0NDOEJGNEZGNTcxMUUxODdBOEVCODg2RjdCQ0QwOSIgeG1wTU06SW5zdGFuY2VJRD0ieG1wLmlpZDozM0NDOEJGM0ZGNTcxMUUxODdBOEVCODg2RjdCQ0QwOSIgeG1wOkNyZWF0b3JUb29sPSJBZG9iZSBQaG90b3Nob3AgQ1M1IE1hY2ludG9zaCI+IDx4bXBNTTpEZXJpdmVkRnJvbSBzdFJlZjppbnN0YW5jZUlEPSJ4bXAuaWlkOkZDN0YxMTc0MDcyMDY4MTE5NUZFRDc5MUM2MUUwNEREIiBzdFJlZjpkb2N1bWVudElEPSJ4bXAuZGlkOjU3Q0QyMDgwMjUyMDY4MTE5OTRDOTM1MTNGNkRBODU3Ii8+IDwvcmRmOkRlc2NyaXB0aW9uPiA8L3JkZjpSREY+IDwveDp4bXBtZXRhPiA8P3hwYWNrZXQgZW5kPSJyIj8+84NovQAAAR1JREFUeNpiZEADy85ZJgCpeCB2QJM6AMQLo4yOL0AWZETSqACk1gOxAQN+cAGIA4EGPQBxmJA0nwdpjjQ8xqArmczw5tMHXAaALDgP1QMxAGqzAAPxQACqh4ER6uf5MBlkm0X4EGayMfMw/Pr7Bd2gRBZogMFBrv01hisv5jLsv9nLAPIOMnjy8RDDyYctyAbFM2EJbRQw+aAWw/LzVgx7b+cwCHKqMhjJFCBLOzAR6+lXX84xnHjYyqAo5IUizkRCwIENQQckGSDGY4TVgAPEaraQr2a4/24bSuoExcJCfAEJihXkWDj3ZAKy9EJGaEo8T0QSxkjSwORsCAuDQCD+QILmD1A9kECEZgxDaEZhICIzGcIyEyOl2RkgwAAhkmC+eAm0TAAAAABJRU5ErkJggg==)](https://orcid.org/0000-0002-1311-6606) (Department of Psychology, University of Wisconsin-Madison, Waisman Center, University of Wisconsin-Madison, Center for Demography on Health and Aging, University of Wisconsin-Madison)  \n",
    "James J. Li [![](data:image/png;base64,iVBORw0KGgoAAAANSUhEUgAAABAAAAAQCAYAAAAf8/9hAAAAGXRFWHRTb2Z0d2FyZQBBZG9iZSBJbWFnZVJlYWR5ccllPAAAA2ZpVFh0WE1MOmNvbS5hZG9iZS54bXAAAAAAADw/eHBhY2tldCBiZWdpbj0i77u/IiBpZD0iVzVNME1wQ2VoaUh6cmVTek5UY3prYzlkIj8+IDx4OnhtcG1ldGEgeG1sbnM6eD0iYWRvYmU6bnM6bWV0YS8iIHg6eG1wdGs9IkFkb2JlIFhNUCBDb3JlIDUuMC1jMDYwIDYxLjEzNDc3NywgMjAxMC8wMi8xMi0xNzozMjowMCAgICAgICAgIj4gPHJkZjpSREYgeG1sbnM6cmRmPSJodHRwOi8vd3d3LnczLm9yZy8xOTk5LzAyLzIyLXJkZi1zeW50YXgtbnMjIj4gPHJkZjpEZXNjcmlwdGlvbiByZGY6YWJvdXQ9IiIgeG1sbnM6eG1wTU09Imh0dHA6Ly9ucy5hZG9iZS5jb20veGFwLzEuMC9tbS8iIHhtbG5zOnN0UmVmPSJodHRwOi8vbnMuYWRvYmUuY29tL3hhcC8xLjAvc1R5cGUvUmVzb3VyY2VSZWYjIiB4bWxuczp4bXA9Imh0dHA6Ly9ucy5hZG9iZS5jb20veGFwLzEuMC8iIHhtcE1NOk9yaWdpbmFsRG9jdW1lbnRJRD0ieG1wLmRpZDo1N0NEMjA4MDI1MjA2ODExOTk0QzkzNTEzRjZEQTg1NyIgeG1wTU06RG9jdW1lbnRJRD0ieG1wLmRpZDozM0NDOEJGNEZGNTcxMUUxODdBOEVCODg2RjdCQ0QwOSIgeG1wTU06SW5zdGFuY2VJRD0ieG1wLmlpZDozM0NDOEJGM0ZGNTcxMUUxODdBOEVCODg2RjdCQ0QwOSIgeG1wOkNyZWF0b3JUb29sPSJBZG9iZSBQaG90b3Nob3AgQ1M1IE1hY2ludG9zaCI+IDx4bXBNTTpEZXJpdmVkRnJvbSBzdFJlZjppbnN0YW5jZUlEPSJ4bXAuaWlkOkZDN0YxMTc0MDcyMDY4MTE5NUZFRDc5MUM2MUUwNEREIiBzdFJlZjpkb2N1bWVudElEPSJ4bXAuZGlkOjU3Q0QyMDgwMjUyMDY4MTE5OTRDOTM1MTNGNkRBODU3Ii8+IDwvcmRmOkRlc2NyaXB0aW9uPiA8L3JkZjpSREY+IDwveDp4bXBtZXRhPiA8P3hwYWNrZXQgZW5kPSJyIj8+84NovQAAAR1JREFUeNpiZEADy85ZJgCpeCB2QJM6AMQLo4yOL0AWZETSqACk1gOxAQN+cAGIA4EGPQBxmJA0nwdpjjQ8xqArmczw5tMHXAaALDgP1QMxAGqzAAPxQACqh4ER6uf5MBlkm0X4EGayMfMw/Pr7Bd2gRBZogMFBrv01hisv5jLsv9nLAPIOMnjy8RDDyYctyAbFM2EJbRQw+aAWw/LzVgx7b+cwCHKqMhjJFCBLOzAR6+lXX84xnHjYyqAo5IUizkRCwIENQQckGSDGY4TVgAPEaraQr2a4/24bSuoExcJCfAEJihXkWDj3ZAKy9EJGaEo8T0QSxkjSwORsCAuDQCD+QILmD1A9kECEZgxDaEZhICIzGcIyEyOl2RkgwAAhkmC+eAm0TAAAAABJRU5ErkJggg==)](https://orcid.org/0000-0001-8031-7216) (Department of Psychology, University of Wisconsin-Madison, Waisman Center, University of Wisconsin-Madison, Center for Demography on Health and Aging, University of Wisconsin-Madison)  \n",
    "December 17, 2024\n",
    "\n",
    "In September 2021, a significant jump in seismic activity on the island of La Palma (Canary Islands, Spain) signaledn the start of a volcanic crisis that still continues at the time of writing. Earthquake data is continually collected and published by the Instituto Geográphico Nacional (IGN). …\n",
    "\n",
    "## Introduction"
   ],
   "id": "8019e28e-3201-44b5-9a2a-8ea9be89e796"
  },
  {
   "cell_type": "raw",
   "metadata": {
    "raw_mimetype": "text/html"
   },
   "source": [
    "<!-- # ```{r} -->"
   ],
   "id": "3a2f4684-8ce3-41bf-87d5-f6402a317264"
  },
  {
   "cell_type": "raw",
   "metadata": {
    "raw_mimetype": "text/html"
   },
   "source": [
    "<!-- # #| include: false -->"
   ],
   "id": "512e2f58-7ce0-4bf0-80f2-e6d27b316941"
  },
  {
   "cell_type": "raw",
   "metadata": {
    "raw_mimetype": "text/html"
   },
   "source": [
    "<!-- #  -->"
   ],
   "id": "a408b9e1-e395-4560-bc48-5aa3824e0087"
  },
  {
   "cell_type": "raw",
   "metadata": {
    "raw_mimetype": "text/html"
   },
   "source": [
    "<!-- # eruptions <- c(1492, 1585, 1646, 1677, 1712, 1949, 1971, 2021) -->"
   ],
   "id": "6114f803-bce2-44bf-a5f9-98b782eb98e5"
  },
  {
   "cell_type": "raw",
   "metadata": {
    "raw_mimetype": "text/html"
   },
   "source": [
    "<!-- # n_eruptions <- length(eruptions) -->"
   ],
   "id": "ead2338c-2fa6-47be-b918-238e02829e14"
  },
  {
   "cell_type": "raw",
   "metadata": {
    "raw_mimetype": "text/html"
   },
   "source": [
    "<!-- # ``` -->"
   ],
   "id": "bc018c21-086f-4db4-bdb4-72aa2f453d1a"
  },
  {
   "cell_type": "raw",
   "metadata": {
    "raw_mimetype": "text/html"
   },
   "source": [
    "<!-- #  -->"
   ],
   "id": "e9f17121-101e-493d-8efd-bfb491429ae8"
  },
  {
   "cell_type": "raw",
   "metadata": {
    "raw_mimetype": "text/html"
   },
   "source": [
    "<!-- # ```{r} -->"
   ],
   "id": "634d7651-6217-4d52-866f-ff8fb13ae1b5"
  },
  {
   "cell_type": "raw",
   "metadata": {
    "raw_mimetype": "text/html"
   },
   "source": [
    "<!-- # #| label: fig-timeline -->"
   ],
   "id": "2a125fb7-56eb-4254-bf25-968237ce8495"
  },
  {
   "cell_type": "raw",
   "metadata": {
    "raw_mimetype": "text/html"
   },
   "source": [
    "<!-- # #| fig-cap: Timeline of recent earthquakes on La Palma -->"
   ],
   "id": "9cbee355-d5d6-4345-af8f-e6964b0d7b6d"
  },
  {
   "cell_type": "raw",
   "metadata": {
    "raw_mimetype": "text/html"
   },
   "source": [
    "<!-- # #| fig-alt: An event plot of the years of the last 8 eruptions on La Palma. -->"
   ],
   "id": "c8fb0874-d283-4228-8620-c9ea0c70f599"
  },
  {
   "cell_type": "raw",
   "metadata": {
    "raw_mimetype": "text/html"
   },
   "source": [
    "<!-- # #| fig-height: 1.5 -->"
   ],
   "id": "ff9c4f91-9177-4be1-a4d5-7f822e521cae"
  },
  {
   "cell_type": "raw",
   "metadata": {
    "raw_mimetype": "text/html"
   },
   "source": [
    "<!-- # #| fig-width: 6 -->"
   ],
   "id": "91b62237-7c1c-4ee2-831a-4322df854c7f"
  },
  {
   "cell_type": "raw",
   "metadata": {
    "raw_mimetype": "text/html"
   },
   "source": [
    "<!-- # par(mar = c(3, 1, 1, 1) + 0.1) -->"
   ],
   "id": "d934ae9b-0198-433b-9290-a12d7ea2458c"
  },
  {
   "cell_type": "raw",
   "metadata": {
    "raw_mimetype": "text/html"
   },
   "source": [
    "<!-- # plot(eruptions, rep(0, n_eruptions),  -->"
   ],
   "id": "cf83e34b-bb5d-4f1e-b5f8-b500390bcd9c"
  },
  {
   "cell_type": "raw",
   "metadata": {
    "raw_mimetype": "text/html"
   },
   "source": [
    "<!-- #   pch = \"|\", axes = FALSE) -->"
   ],
   "id": "60ee1f83-2fd6-4cb6-9532-2cd6ca70da61"
  },
  {
   "cell_type": "raw",
   "metadata": {
    "raw_mimetype": "text/html"
   },
   "source": [
    "<!-- # axis(1) -->"
   ],
   "id": "749786ae-2742-4f06-9213-9ad172aceb35"
  },
  {
   "cell_type": "raw",
   "metadata": {
    "raw_mimetype": "text/html"
   },
   "source": [
    "<!-- # box() -->"
   ],
   "id": "07ea7b14-a8ae-4ae4-96d0-0a07a0718d2a"
  },
  {
   "cell_type": "raw",
   "metadata": {
    "raw_mimetype": "text/html"
   },
   "source": [
    "<!-- # ``` -->"
   ],
   "id": "106fb144-2979-46ce-bfec-ead969fcc0c1"
  },
  {
   "cell_type": "raw",
   "metadata": {
    "raw_mimetype": "text/html"
   },
   "source": [
    "<!-- #  -->"
   ],
   "id": "c352c879-4738-4b52-9f9b-6cebf5b41d51"
  },
  {
   "cell_type": "raw",
   "metadata": {
    "raw_mimetype": "text/html"
   },
   "source": [
    "<!-- # ```{r} -->"
   ],
   "id": "069ba9d8-6a6e-4596-b47a-2b6224b1bce3"
  },
  {
   "cell_type": "raw",
   "metadata": {
    "raw_mimetype": "text/html"
   },
   "source": [
    "<!-- # #| output: false -->"
   ],
   "id": "ce8bfd65-a07c-4bc1-aa8b-d1d4311e3eba"
  },
  {
   "cell_type": "raw",
   "metadata": {
    "raw_mimetype": "text/html"
   },
   "source": [
    "<!-- # avg_years_between_eruptions <- mean(diff(eruptions[-n_eruptions])) -->"
   ],
   "id": "2cc7a291-8785-4620-b5b5-081c371458fe"
  },
  {
   "cell_type": "raw",
   "metadata": {
    "raw_mimetype": "text/html"
   },
   "source": [
    "<!-- # avg_years_between_eruptions -->"
   ],
   "id": "b4c8594b-bda9-4e96-84f7-8f10e8a1e7fe"
  },
  {
   "cell_type": "raw",
   "metadata": {
    "raw_mimetype": "text/html"
   },
   "source": [
    "<!-- # ``` -->"
   ],
   "id": "7e2b912d-b36f-4358-9b85-4620a2102cc2"
  },
  {
   "cell_type": "raw",
   "metadata": {
    "raw_mimetype": "text/html"
   },
   "source": [
    "<!-- #  -->"
   ],
   "id": "bdd1da38-8a48-40e2-a33f-22ed3dab792a"
  },
  {
   "cell_type": "raw",
   "metadata": {
    "raw_mimetype": "text/html"
   },
   "source": [
    "<!-- # Based on data up to and including 1971, eruptions on La Palma happen every `{r} round(avg_years_between_eruptions, 1)` years on average. -->"
   ],
   "id": "33b9b00b-03d7-40f8-9800-98cd8d0c715d"
  },
  {
   "cell_type": "raw",
   "metadata": {
    "raw_mimetype": "text/html"
   },
   "source": [
    "<!-- #  -->"
   ],
   "id": "626a9638-a3c7-4328-88f0-24437135feb9"
  },
  {
   "cell_type": "raw",
   "metadata": {
    "raw_mimetype": "text/html"
   },
   "source": [
    "<!-- # Studies of the magma systems feeding the volcano, such as @marrero2019, have proposed that there are two main magma reservoirs feeding the Cumbre Vieja volcano; one in the mantle (30-40km depth) which charges and in turn feeds a shallower crustal reservoir (10-20km depth). -->"
   ],
   "id": "f25e2326-68ff-48bc-b751-9a5a733cd907"
  },
  {
   "cell_type": "raw",
   "metadata": {
    "raw_mimetype": "text/html"
   },
   "source": [
    "<!-- #  -->"
   ],
   "id": "f7a9fe55-216d-4996-a5af-68d3f3869529"
  },
  {
   "cell_type": "raw",
   "metadata": {
    "raw_mimetype": "text/html"
   },
   "source": [
    "<!-- # Eight eruptions have been recorded since the late 1400s (@fig-timeline). -->"
   ],
   "id": "95a8eb3b-d684-4721-9f6e-c16efdac1b40"
  },
  {
   "cell_type": "raw",
   "metadata": {
    "raw_mimetype": "text/html"
   },
   "source": [
    "<!-- #  -->"
   ],
   "id": "dd670b9f-35ed-4186-ade2-f8c625e1a5fe"
  },
  {
   "cell_type": "raw",
   "metadata": {
    "raw_mimetype": "text/html"
   },
   "source": [
    "<!-- # Data and methods are discussed in @sec-data-methods. -->"
   ],
   "id": "c33fcbec-7282-4cfc-833c-22080ff064d3"
  },
  {
   "cell_type": "raw",
   "metadata": {
    "raw_mimetype": "text/html"
   },
   "source": [
    "<!-- #  -->"
   ],
   "id": "d3f69d61-69af-4aa0-bbb2-91c262a8132f"
  },
  {
   "cell_type": "raw",
   "metadata": {
    "raw_mimetype": "text/html"
   },
   "source": [
    "<!-- # Let $x$ denote the number of eruptions in a year. Then, $x$ can be modeled by a Poisson distribution -->"
   ],
   "id": "a3a6da2e-0c5d-41b7-b35a-24edf49fe82a"
  },
  {
   "cell_type": "raw",
   "metadata": {
    "raw_mimetype": "text/html"
   },
   "source": [
    "<!-- #  -->"
   ],
   "id": "72c047e4-6ee4-46b7-aae7-6a43875f91c1"
  },
  {
   "cell_type": "raw",
   "metadata": {
    "raw_mimetype": "text/html"
   },
   "source": [
    "<!-- # $$ -->"
   ],
   "id": "d38fc762-d025-4bbf-bda9-66b42565ce79"
  },
  {
   "cell_type": "raw",
   "metadata": {
    "raw_mimetype": "text/html"
   },
   "source": [
    "<!-- # p(x) = \\frac{e^{-\\lambda} \\lambda^{x}}{x !} -->"
   ],
   "id": "6e4b2006-faf1-4a1d-aa74-3821d9837276"
  },
  {
   "cell_type": "raw",
   "metadata": {
    "raw_mimetype": "text/html"
   },
   "source": [
    "<!-- # $$ {#eq-poisson} -->"
   ],
   "id": "854b4c37-d2cf-4fdb-9bef-c26cc6586cb9"
  },
  {
   "cell_type": "raw",
   "metadata": {
    "raw_mimetype": "text/html"
   },
   "source": [
    "<!-- #  -->"
   ],
   "id": "9c5656e6-046f-4686-a35e-6fc7ec6ac8c3"
  },
  {
   "cell_type": "raw",
   "metadata": {
    "raw_mimetype": "text/html"
   },
   "source": [
    "<!-- # where $\\lambda$ is the rate of eruptions per year. Using @eq-poisson, the probability of an eruption in the next $t$ years can be calculated. -->"
   ],
   "id": "e6a656d3-2a33-4b95-acb1-02edce0ba6f7"
  },
  {
   "cell_type": "raw",
   "metadata": {
    "raw_mimetype": "text/html"
   },
   "source": [
    "<!-- #  -->"
   ],
   "id": "471ba5b5-f73d-435e-b0d8-6b45ab49cf69"
  },
  {
   "cell_type": "raw",
   "metadata": {
    "raw_mimetype": "text/html"
   },
   "source": [
    "<!-- # | Name                 | Year   | -->"
   ],
   "id": "c7a8a45c-fa1e-444f-82df-f4fc455cd721"
  },
  {
   "cell_type": "raw",
   "metadata": {
    "raw_mimetype": "text/html"
   },
   "source": [
    "<!-- # | -------------------- | ------ | -->"
   ],
   "id": "e26fd052-663b-4e99-ac6c-b62292257489"
  },
  {
   "cell_type": "raw",
   "metadata": {
    "raw_mimetype": "text/html"
   },
   "source": [
    "<!-- # | Current              | 2021   | -->"
   ],
   "id": "f85da4c8-12d3-4620-bf08-e8e872a7c62c"
  },
  {
   "cell_type": "raw",
   "metadata": {
    "raw_mimetype": "text/html"
   },
   "source": [
    "<!-- # | Teneguía             | 1971   | -->"
   ],
   "id": "efd48e1d-8f35-4d4f-81e4-81dc38a1dd85"
  },
  {
   "cell_type": "raw",
   "metadata": {
    "raw_mimetype": "text/html"
   },
   "source": [
    "<!-- # | Nambroque            | 1949   | -->"
   ],
   "id": "c13f3b57-d326-4a06-9842-748c7aa6e297"
  },
  {
   "cell_type": "raw",
   "metadata": {
    "raw_mimetype": "text/html"
   },
   "source": [
    "<!-- # | El Charco            | 1712   | -->"
   ],
   "id": "29d931b9-8c84-49dd-8a86-4110152b2f4b"
  },
  {
   "cell_type": "raw",
   "metadata": {
    "raw_mimetype": "text/html"
   },
   "source": [
    "<!-- # | Volcán San Antonio   | 1677   | -->"
   ],
   "id": "8d7a902b-7b97-440b-a4bf-fa682be5924c"
  },
  {
   "cell_type": "raw",
   "metadata": {
    "raw_mimetype": "text/html"
   },
   "source": [
    "<!-- # | Volcán San Martin    | 1646   | -->"
   ],
   "id": "2f8e0637-ae00-4d8b-b68b-098773fbd0ab"
  },
  {
   "cell_type": "raw",
   "metadata": {
    "raw_mimetype": "text/html"
   },
   "source": [
    "<!-- # | Tajuya near El Paso  | 1585   | -->"
   ],
   "id": "517e1ad0-b92a-41fa-af47-3797fe6fbc0c"
  },
  {
   "cell_type": "raw",
   "metadata": {
    "raw_mimetype": "text/html"
   },
   "source": [
    "<!-- # | Montaña Quemada      | 1492   | -->"
   ],
   "id": "58dc074d-5e4c-41cc-adbd-302b585f70e7"
  },
  {
   "cell_type": "raw",
   "metadata": {
    "raw_mimetype": "text/html"
   },
   "source": [
    "<!-- #  -->"
   ],
   "id": "c365eb96-217a-4f33-964e-792776ed74ae"
  },
  {
   "cell_type": "raw",
   "metadata": {
    "raw_mimetype": "text/html"
   },
   "source": [
    "<!-- # : Recent historic eruptions on La Palma {#tbl-history} -->"
   ],
   "id": "2ec9ac43-e1cb-4e03-9ea3-0d9198ca63b7"
  },
  {
   "cell_type": "raw",
   "metadata": {
    "raw_mimetype": "text/html"
   },
   "source": [
    "<!-- #  -->"
   ],
   "id": "f4c27195-8184-49c0-8b71-06fe68f29551"
  },
  {
   "cell_type": "raw",
   "metadata": {
    "raw_mimetype": "text/html"
   },
   "source": [
    "<!-- # @tbl-history summarises the eruptions recorded since the colonization of the islands by Europeans in the late 1400s. -->"
   ],
   "id": "e74d0a23-de3b-4799-b9ad-0bf517e877f6"
  },
  {
   "cell_type": "raw",
   "metadata": {
    "raw_mimetype": "text/html"
   },
   "source": [
    "<!-- #  -->"
   ],
   "id": "724f5d2e-b80a-4d36-abf9-99f8530779db"
  },
  {
   "cell_type": "raw",
   "metadata": {
    "raw_mimetype": "text/html"
   },
   "source": [
    "<!-- # ![Map of La Palma](images/la-palma-map.png){#fig-map} -->"
   ],
   "id": "8bca6b69-ac92-4b1a-bf82-8a4ea61a1008"
  },
  {
   "cell_type": "raw",
   "metadata": {
    "raw_mimetype": "text/html"
   },
   "source": [
    "<!-- #  -->"
   ],
   "id": "04d80398-6053-4876-b6ec-583043f0832b"
  },
  {
   "cell_type": "raw",
   "metadata": {
    "raw_mimetype": "text/html"
   },
   "source": [
    "<!-- # La Palma is one of the west most islands in the Volcanic Archipelago of the Canary Islands (@fig-map).  -->"
   ],
   "id": "0f759624-97d8-4048-a778-b2e09ef0f710"
  },
  {
   "cell_type": "raw",
   "metadata": {
    "raw_mimetype": "text/html"
   },
   "source": [
    "<!-- #  -->"
   ],
   "id": "d5370baa-e3a8-4c46-9a40-735dd8f6f0ec"
  },
  {
   "cell_type": "raw",
   "metadata": {
    "raw_mimetype": "text/html"
   },
   "source": [
    "<!-- # {{< embed notebooks/explore-earthquakes.qmd#fig-spatial-plot >}} -->"
   ],
   "id": "1c087336-3fe3-4027-b95b-f4305a24d6e8"
  },
  {
   "cell_type": "raw",
   "metadata": {
    "raw_mimetype": "text/html"
   },
   "source": [
    "<!-- #  -->"
   ],
   "id": "930b8458-2e6b-4e47-b963-f6432249f724"
  },
  {
   "cell_type": "raw",
   "metadata": {
    "raw_mimetype": "text/html"
   },
   "source": [
    "<!-- # @fig-spatial-plot shows the location of recent Earthquakes on La Palma. -->"
   ],
   "id": "166417b9-e1ab-4044-8156-6ffdfa3d59fe"
  },
  {
   "cell_type": "markdown",
   "metadata": {},
   "source": [
    "## Data & Methods\n",
    "\n",
    "## Conclusion\n",
    "\n",
    "## References"
   ],
   "id": "265318f7-31a2-4417-8627-897f10b5aa57"
  }
 ],
 "nbformat": 4,
 "nbformat_minor": 5,
 "metadata": {}
}
