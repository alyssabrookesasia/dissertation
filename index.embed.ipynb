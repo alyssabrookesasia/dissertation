{
 "cells": [
  {
   "cell_type": "markdown",
   "metadata": {},
   "source": [
    "# Dissertation proposal\n",
    "\n",
    "A. Brooke Sasia [![](data:image/png;base64,iVBORw0KGgoAAAANSUhEUgAAABAAAAAQCAYAAAAf8/9hAAAAGXRFWHRTb2Z0d2FyZQBBZG9iZSBJbWFnZVJlYWR5ccllPAAAA2ZpVFh0WE1MOmNvbS5hZG9iZS54bXAAAAAAADw/eHBhY2tldCBiZWdpbj0i77u/IiBpZD0iVzVNME1wQ2VoaUh6cmVTek5UY3prYzlkIj8+IDx4OnhtcG1ldGEgeG1sbnM6eD0iYWRvYmU6bnM6bWV0YS8iIHg6eG1wdGs9IkFkb2JlIFhNUCBDb3JlIDUuMC1jMDYwIDYxLjEzNDc3NywgMjAxMC8wMi8xMi0xNzozMjowMCAgICAgICAgIj4gPHJkZjpSREYgeG1sbnM6cmRmPSJodHRwOi8vd3d3LnczLm9yZy8xOTk5LzAyLzIyLXJkZi1zeW50YXgtbnMjIj4gPHJkZjpEZXNjcmlwdGlvbiByZGY6YWJvdXQ9IiIgeG1sbnM6eG1wTU09Imh0dHA6Ly9ucy5hZG9iZS5jb20veGFwLzEuMC9tbS8iIHhtbG5zOnN0UmVmPSJodHRwOi8vbnMuYWRvYmUuY29tL3hhcC8xLjAvc1R5cGUvUmVzb3VyY2VSZWYjIiB4bWxuczp4bXA9Imh0dHA6Ly9ucy5hZG9iZS5jb20veGFwLzEuMC8iIHhtcE1NOk9yaWdpbmFsRG9jdW1lbnRJRD0ieG1wLmRpZDo1N0NEMjA4MDI1MjA2ODExOTk0QzkzNTEzRjZEQTg1NyIgeG1wTU06RG9jdW1lbnRJRD0ieG1wLmRpZDozM0NDOEJGNEZGNTcxMUUxODdBOEVCODg2RjdCQ0QwOSIgeG1wTU06SW5zdGFuY2VJRD0ieG1wLmlpZDozM0NDOEJGM0ZGNTcxMUUxODdBOEVCODg2RjdCQ0QwOSIgeG1wOkNyZWF0b3JUb29sPSJBZG9iZSBQaG90b3Nob3AgQ1M1IE1hY2ludG9zaCI+IDx4bXBNTTpEZXJpdmVkRnJvbSBzdFJlZjppbnN0YW5jZUlEPSJ4bXAuaWlkOkZDN0YxMTc0MDcyMDY4MTE5NUZFRDc5MUM2MUUwNEREIiBzdFJlZjpkb2N1bWVudElEPSJ4bXAuZGlkOjU3Q0QyMDgwMjUyMDY4MTE5OTRDOTM1MTNGNkRBODU3Ii8+IDwvcmRmOkRlc2NyaXB0aW9uPiA8L3JkZjpSREY+IDwveDp4bXBtZXRhPiA8P3hwYWNrZXQgZW5kPSJyIj8+84NovQAAAR1JREFUeNpiZEADy85ZJgCpeCB2QJM6AMQLo4yOL0AWZETSqACk1gOxAQN+cAGIA4EGPQBxmJA0nwdpjjQ8xqArmczw5tMHXAaALDgP1QMxAGqzAAPxQACqh4ER6uf5MBlkm0X4EGayMfMw/Pr7Bd2gRBZogMFBrv01hisv5jLsv9nLAPIOMnjy8RDDyYctyAbFM2EJbRQw+aAWw/LzVgx7b+cwCHKqMhjJFCBLOzAR6+lXX84xnHjYyqAo5IUizkRCwIENQQckGSDGY4TVgAPEaraQr2a4/24bSuoExcJCfAEJihXkWDj3ZAKy9EJGaEo8T0QSxkjSwORsCAuDQCD+QILmD1A9kECEZgxDaEZhICIzGcIyEyOl2RkgwAAhkmC+eAm0TAAAAABJRU5ErkJggg==)](https://orcid.org/0000-0002-1311-6606) (Department of Psychology, University of Wisconsin-Madison, Waisman Center, University of Wisconsin-Madison, Center for Demography on Health and Aging, University of Wisconsin-Madison)  \n",
    "James J. Li [![](data:image/png;base64,iVBORw0KGgoAAAANSUhEUgAAABAAAAAQCAYAAAAf8/9hAAAAGXRFWHRTb2Z0d2FyZQBBZG9iZSBJbWFnZVJlYWR5ccllPAAAA2ZpVFh0WE1MOmNvbS5hZG9iZS54bXAAAAAAADw/eHBhY2tldCBiZWdpbj0i77u/IiBpZD0iVzVNME1wQ2VoaUh6cmVTek5UY3prYzlkIj8+IDx4OnhtcG1ldGEgeG1sbnM6eD0iYWRvYmU6bnM6bWV0YS8iIHg6eG1wdGs9IkFkb2JlIFhNUCBDb3JlIDUuMC1jMDYwIDYxLjEzNDc3NywgMjAxMC8wMi8xMi0xNzozMjowMCAgICAgICAgIj4gPHJkZjpSREYgeG1sbnM6cmRmPSJodHRwOi8vd3d3LnczLm9yZy8xOTk5LzAyLzIyLXJkZi1zeW50YXgtbnMjIj4gPHJkZjpEZXNjcmlwdGlvbiByZGY6YWJvdXQ9IiIgeG1sbnM6eG1wTU09Imh0dHA6Ly9ucy5hZG9iZS5jb20veGFwLzEuMC9tbS8iIHhtbG5zOnN0UmVmPSJodHRwOi8vbnMuYWRvYmUuY29tL3hhcC8xLjAvc1R5cGUvUmVzb3VyY2VSZWYjIiB4bWxuczp4bXA9Imh0dHA6Ly9ucy5hZG9iZS5jb20veGFwLzEuMC8iIHhtcE1NOk9yaWdpbmFsRG9jdW1lbnRJRD0ieG1wLmRpZDo1N0NEMjA4MDI1MjA2ODExOTk0QzkzNTEzRjZEQTg1NyIgeG1wTU06RG9jdW1lbnRJRD0ieG1wLmRpZDozM0NDOEJGNEZGNTcxMUUxODdBOEVCODg2RjdCQ0QwOSIgeG1wTU06SW5zdGFuY2VJRD0ieG1wLmlpZDozM0NDOEJGM0ZGNTcxMUUxODdBOEVCODg2RjdCQ0QwOSIgeG1wOkNyZWF0b3JUb29sPSJBZG9iZSBQaG90b3Nob3AgQ1M1IE1hY2ludG9zaCI+IDx4bXBNTTpEZXJpdmVkRnJvbSBzdFJlZjppbnN0YW5jZUlEPSJ4bXAuaWlkOkZDN0YxMTc0MDcyMDY4MTE5NUZFRDc5MUM2MUUwNEREIiBzdFJlZjpkb2N1bWVudElEPSJ4bXAuZGlkOjU3Q0QyMDgwMjUyMDY4MTE5OTRDOTM1MTNGNkRBODU3Ii8+IDwvcmRmOkRlc2NyaXB0aW9uPiA8L3JkZjpSREY+IDwveDp4bXBtZXRhPiA8P3hwYWNrZXQgZW5kPSJyIj8+84NovQAAAR1JREFUeNpiZEADy85ZJgCpeCB2QJM6AMQLo4yOL0AWZETSqACk1gOxAQN+cAGIA4EGPQBxmJA0nwdpjjQ8xqArmczw5tMHXAaALDgP1QMxAGqzAAPxQACqh4ER6uf5MBlkm0X4EGayMfMw/Pr7Bd2gRBZogMFBrv01hisv5jLsv9nLAPIOMnjy8RDDyYctyAbFM2EJbRQw+aAWw/LzVgx7b+cwCHKqMhjJFCBLOzAR6+lXX84xnHjYyqAo5IUizkRCwIENQQckGSDGY4TVgAPEaraQr2a4/24bSuoExcJCfAEJihXkWDj3ZAKy9EJGaEo8T0QSxkjSwORsCAuDQCD+QILmD1A9kECEZgxDaEZhICIzGcIyEyOl2RkgwAAhkmC+eAm0TAAAAABJRU5ErkJggg==)](https://orcid.org/0000-0001-8031-7216) (Department of Psychology, University of Wisconsin-Madison, Waisman Center, University of Wisconsin-Madison, Center for Demography on Health and Aging, University of Wisconsin-Madison)  \n",
    "December 16, 2024\n",
    "\n",
    "In September 2021, a significant jump in seismic activity on the island of La Palma (Canary Islands, Spain) signaledn the start of a volcanic crisis that still continues at the time of writing. Earthquake data is continually collected and published by the Instituto Geográphico Nacional (IGN). …\n",
    "\n",
    "## Introduction"
   ],
   "id": "d9e02554-d238-48af-abf9-4440d4682841"
  },
  {
   "cell_type": "raw",
   "metadata": {
    "raw_mimetype": "text/html"
   },
   "source": [
    "<!-- # ```{r} -->"
   ],
   "id": "2679b756-2ba0-4997-a3c8-dd44953ca55b"
  },
  {
   "cell_type": "raw",
   "metadata": {
    "raw_mimetype": "text/html"
   },
   "source": [
    "<!-- # #| include: false -->"
   ],
   "id": "2e1bc224-3a74-48c3-8468-f4e70327c255"
  },
  {
   "cell_type": "raw",
   "metadata": {
    "raw_mimetype": "text/html"
   },
   "source": [
    "<!-- #  -->"
   ],
   "id": "3dcb71bf-4e13-4ad0-b220-d8a4eaa387f4"
  },
  {
   "cell_type": "raw",
   "metadata": {
    "raw_mimetype": "text/html"
   },
   "source": [
    "<!-- # eruptions <- c(1492, 1585, 1646, 1677, 1712, 1949, 1971, 2021) -->"
   ],
   "id": "ec7b23ad-af37-4ff7-8378-6ae41b2b26ef"
  },
  {
   "cell_type": "raw",
   "metadata": {
    "raw_mimetype": "text/html"
   },
   "source": [
    "<!-- # n_eruptions <- length(eruptions) -->"
   ],
   "id": "3ea547b0-c972-4ae5-ad3e-91ca2c098313"
  },
  {
   "cell_type": "raw",
   "metadata": {
    "raw_mimetype": "text/html"
   },
   "source": [
    "<!-- # ``` -->"
   ],
   "id": "d39d384b-f958-4da7-98e5-f5cd7d3bb9ef"
  },
  {
   "cell_type": "raw",
   "metadata": {
    "raw_mimetype": "text/html"
   },
   "source": [
    "<!-- #  -->"
   ],
   "id": "5e3da44c-a6b2-4610-a900-6989d1c2c89f"
  },
  {
   "cell_type": "raw",
   "metadata": {
    "raw_mimetype": "text/html"
   },
   "source": [
    "<!-- # ```{r} -->"
   ],
   "id": "9a599018-6ef0-4c11-a83d-2b2116c58144"
  },
  {
   "cell_type": "raw",
   "metadata": {
    "raw_mimetype": "text/html"
   },
   "source": [
    "<!-- # #| label: fig-timeline -->"
   ],
   "id": "2ee772a4-117e-40cb-b9d9-7428d79b6051"
  },
  {
   "cell_type": "raw",
   "metadata": {
    "raw_mimetype": "text/html"
   },
   "source": [
    "<!-- # #| fig-cap: Timeline of recent earthquakes on La Palma -->"
   ],
   "id": "1797e1b4-c84f-429a-8c98-57edfc6657c3"
  },
  {
   "cell_type": "raw",
   "metadata": {
    "raw_mimetype": "text/html"
   },
   "source": [
    "<!-- # #| fig-alt: An event plot of the years of the last 8 eruptions on La Palma. -->"
   ],
   "id": "048a7b58-8166-4020-b7d1-0a72a8ce2a70"
  },
  {
   "cell_type": "raw",
   "metadata": {
    "raw_mimetype": "text/html"
   },
   "source": [
    "<!-- # #| fig-height: 1.5 -->"
   ],
   "id": "2616d256-8664-4d32-8f22-b7b092698c30"
  },
  {
   "cell_type": "raw",
   "metadata": {
    "raw_mimetype": "text/html"
   },
   "source": [
    "<!-- # #| fig-width: 6 -->"
   ],
   "id": "c89ae407-1412-4dc6-abc8-f9db08b5b32f"
  },
  {
   "cell_type": "raw",
   "metadata": {
    "raw_mimetype": "text/html"
   },
   "source": [
    "<!-- # par(mar = c(3, 1, 1, 1) + 0.1) -->"
   ],
   "id": "bf2e2463-ec98-4d37-8f4c-8ab6d4b2c68f"
  },
  {
   "cell_type": "raw",
   "metadata": {
    "raw_mimetype": "text/html"
   },
   "source": [
    "<!-- # plot(eruptions, rep(0, n_eruptions),  -->"
   ],
   "id": "dcd67791-6e50-4a66-9737-878fbebc4f25"
  },
  {
   "cell_type": "raw",
   "metadata": {
    "raw_mimetype": "text/html"
   },
   "source": [
    "<!-- #   pch = \"|\", axes = FALSE) -->"
   ],
   "id": "72e7d9df-03d1-4802-9e5f-242c618aff9e"
  },
  {
   "cell_type": "raw",
   "metadata": {
    "raw_mimetype": "text/html"
   },
   "source": [
    "<!-- # axis(1) -->"
   ],
   "id": "d45d3401-16e5-4340-a783-73cda1a7cbe3"
  },
  {
   "cell_type": "raw",
   "metadata": {
    "raw_mimetype": "text/html"
   },
   "source": [
    "<!-- # box() -->"
   ],
   "id": "4830fc91-0e2b-40d0-b1f7-492b494404f6"
  },
  {
   "cell_type": "raw",
   "metadata": {
    "raw_mimetype": "text/html"
   },
   "source": [
    "<!-- # ``` -->"
   ],
   "id": "1a10a1a1-f770-4ba7-b117-0a0be35a5828"
  },
  {
   "cell_type": "raw",
   "metadata": {
    "raw_mimetype": "text/html"
   },
   "source": [
    "<!-- #  -->"
   ],
   "id": "738a28eb-a72b-4521-9f80-0c3988dbcd67"
  },
  {
   "cell_type": "raw",
   "metadata": {
    "raw_mimetype": "text/html"
   },
   "source": [
    "<!-- # ```{r} -->"
   ],
   "id": "e25b2112-0386-4618-ae1c-a071fa3d03d3"
  },
  {
   "cell_type": "raw",
   "metadata": {
    "raw_mimetype": "text/html"
   },
   "source": [
    "<!-- # #| output: false -->"
   ],
   "id": "58eab274-b262-4fe5-aac7-f1047bd50bf8"
  },
  {
   "cell_type": "raw",
   "metadata": {
    "raw_mimetype": "text/html"
   },
   "source": [
    "<!-- # avg_years_between_eruptions <- mean(diff(eruptions[-n_eruptions])) -->"
   ],
   "id": "d287f56e-77e2-419e-a297-a1d2e0285c4c"
  },
  {
   "cell_type": "raw",
   "metadata": {
    "raw_mimetype": "text/html"
   },
   "source": [
    "<!-- # avg_years_between_eruptions -->"
   ],
   "id": "18c5b4dd-0c7d-47a4-a76b-7d7779637b90"
  },
  {
   "cell_type": "raw",
   "metadata": {
    "raw_mimetype": "text/html"
   },
   "source": [
    "<!-- # ``` -->"
   ],
   "id": "2f201eed-8e41-4799-9164-cbd8e06a6b5c"
  },
  {
   "cell_type": "raw",
   "metadata": {
    "raw_mimetype": "text/html"
   },
   "source": [
    "<!-- #  -->"
   ],
   "id": "63038b3e-dc93-48bd-a48a-7c94f227b48d"
  },
  {
   "cell_type": "raw",
   "metadata": {
    "raw_mimetype": "text/html"
   },
   "source": [
    "<!-- # Based on data up to and including 1971, eruptions on La Palma happen every `{r} round(avg_years_between_eruptions, 1)` years on average. -->"
   ],
   "id": "dcc175fb-2607-468c-ba48-abb0c4019753"
  },
  {
   "cell_type": "raw",
   "metadata": {
    "raw_mimetype": "text/html"
   },
   "source": [
    "<!-- #  -->"
   ],
   "id": "c4ddd19e-ecda-4e13-872e-594aa415ea52"
  },
  {
   "cell_type": "raw",
   "metadata": {
    "raw_mimetype": "text/html"
   },
   "source": [
    "<!-- # Studies of the magma systems feeding the volcano, such as @marrero2019, have proposed that there are two main magma reservoirs feeding the Cumbre Vieja volcano; one in the mantle (30-40km depth) which charges and in turn feeds a shallower crustal reservoir (10-20km depth). -->"
   ],
   "id": "e7ab5e5f-df2d-4213-827b-6f519748ecb4"
  },
  {
   "cell_type": "raw",
   "metadata": {
    "raw_mimetype": "text/html"
   },
   "source": [
    "<!-- #  -->"
   ],
   "id": "d3d547b2-d263-481f-a435-25b53e2a4cb0"
  },
  {
   "cell_type": "raw",
   "metadata": {
    "raw_mimetype": "text/html"
   },
   "source": [
    "<!-- # Eight eruptions have been recorded since the late 1400s (@fig-timeline). -->"
   ],
   "id": "04b54674-cd89-4e0c-b1a6-5114047615ca"
  },
  {
   "cell_type": "raw",
   "metadata": {
    "raw_mimetype": "text/html"
   },
   "source": [
    "<!-- #  -->"
   ],
   "id": "4fe230f6-9c60-46bd-bc81-83a6db7dd67d"
  },
  {
   "cell_type": "raw",
   "metadata": {
    "raw_mimetype": "text/html"
   },
   "source": [
    "<!-- # Data and methods are discussed in @sec-data-methods. -->"
   ],
   "id": "432ef0e4-2e2c-4bb7-b5e5-a6eadbf49b38"
  },
  {
   "cell_type": "raw",
   "metadata": {
    "raw_mimetype": "text/html"
   },
   "source": [
    "<!-- #  -->"
   ],
   "id": "f643fccf-be82-4044-927f-84ac98cceaa9"
  },
  {
   "cell_type": "raw",
   "metadata": {
    "raw_mimetype": "text/html"
   },
   "source": [
    "<!-- # Let $x$ denote the number of eruptions in a year. Then, $x$ can be modeled by a Poisson distribution -->"
   ],
   "id": "ea1f7322-96b8-4ab2-b951-8b00b32c1116"
  },
  {
   "cell_type": "raw",
   "metadata": {
    "raw_mimetype": "text/html"
   },
   "source": [
    "<!-- #  -->"
   ],
   "id": "7f802951-21f7-432d-bc7a-c78b5bf24398"
  },
  {
   "cell_type": "raw",
   "metadata": {
    "raw_mimetype": "text/html"
   },
   "source": [
    "<!-- # $$ -->"
   ],
   "id": "7fafe61c-663f-4f04-97b3-f3487b04e830"
  },
  {
   "cell_type": "raw",
   "metadata": {
    "raw_mimetype": "text/html"
   },
   "source": [
    "<!-- # p(x) = \\frac{e^{-\\lambda} \\lambda^{x}}{x !} -->"
   ],
   "id": "9780e67b-3dde-4653-ade5-9f8ba8867e66"
  },
  {
   "cell_type": "raw",
   "metadata": {
    "raw_mimetype": "text/html"
   },
   "source": [
    "<!-- # $$ {#eq-poisson} -->"
   ],
   "id": "7fd36e09-082e-48fc-b8f5-625728701c3a"
  },
  {
   "cell_type": "raw",
   "metadata": {
    "raw_mimetype": "text/html"
   },
   "source": [
    "<!-- #  -->"
   ],
   "id": "0c277449-d6ed-49f3-a32d-de103c3f338f"
  },
  {
   "cell_type": "raw",
   "metadata": {
    "raw_mimetype": "text/html"
   },
   "source": [
    "<!-- # where $\\lambda$ is the rate of eruptions per year. Using @eq-poisson, the probability of an eruption in the next $t$ years can be calculated. -->"
   ],
   "id": "b28d8377-6bba-4b3d-9d96-0783fe942da9"
  },
  {
   "cell_type": "raw",
   "metadata": {
    "raw_mimetype": "text/html"
   },
   "source": [
    "<!-- #  -->"
   ],
   "id": "daf3d34e-63d3-4e74-925d-5c84dc954672"
  },
  {
   "cell_type": "raw",
   "metadata": {
    "raw_mimetype": "text/html"
   },
   "source": [
    "<!-- # | Name                 | Year   | -->"
   ],
   "id": "4d46bf97-3f57-4d5c-87a5-1fda8800448c"
  },
  {
   "cell_type": "raw",
   "metadata": {
    "raw_mimetype": "text/html"
   },
   "source": [
    "<!-- # | -------------------- | ------ | -->"
   ],
   "id": "d3875470-588d-4449-b578-246e8b66afa9"
  },
  {
   "cell_type": "raw",
   "metadata": {
    "raw_mimetype": "text/html"
   },
   "source": [
    "<!-- # | Current              | 2021   | -->"
   ],
   "id": "d006fe86-5d21-4f3d-91b2-ba75fd6519c7"
  },
  {
   "cell_type": "raw",
   "metadata": {
    "raw_mimetype": "text/html"
   },
   "source": [
    "<!-- # | Teneguía             | 1971   | -->"
   ],
   "id": "5dbf7d64-afcc-40d7-9c4c-4c635245872d"
  },
  {
   "cell_type": "raw",
   "metadata": {
    "raw_mimetype": "text/html"
   },
   "source": [
    "<!-- # | Nambroque            | 1949   | -->"
   ],
   "id": "909e1a59-62f3-434b-991d-b3cface53691"
  },
  {
   "cell_type": "raw",
   "metadata": {
    "raw_mimetype": "text/html"
   },
   "source": [
    "<!-- # | El Charco            | 1712   | -->"
   ],
   "id": "209e92d3-9cb9-4de5-8755-f4d546b02ba4"
  },
  {
   "cell_type": "raw",
   "metadata": {
    "raw_mimetype": "text/html"
   },
   "source": [
    "<!-- # | Volcán San Antonio   | 1677   | -->"
   ],
   "id": "0a2e2eba-debc-4cc8-863e-a6882159e125"
  },
  {
   "cell_type": "raw",
   "metadata": {
    "raw_mimetype": "text/html"
   },
   "source": [
    "<!-- # | Volcán San Martin    | 1646   | -->"
   ],
   "id": "d702dbaf-a4a4-4a4c-8670-92a608d49f85"
  },
  {
   "cell_type": "raw",
   "metadata": {
    "raw_mimetype": "text/html"
   },
   "source": [
    "<!-- # | Tajuya near El Paso  | 1585   | -->"
   ],
   "id": "377b529a-37c5-4092-98ee-37f99fc7fac4"
  },
  {
   "cell_type": "raw",
   "metadata": {
    "raw_mimetype": "text/html"
   },
   "source": [
    "<!-- # | Montaña Quemada      | 1492   | -->"
   ],
   "id": "9043cfbd-fb51-49c1-9e39-aa944efdeb05"
  },
  {
   "cell_type": "raw",
   "metadata": {
    "raw_mimetype": "text/html"
   },
   "source": [
    "<!-- #  -->"
   ],
   "id": "c3595d32-fa70-4bbc-aeec-ee33ac630e03"
  },
  {
   "cell_type": "raw",
   "metadata": {
    "raw_mimetype": "text/html"
   },
   "source": [
    "<!-- # : Recent historic eruptions on La Palma {#tbl-history} -->"
   ],
   "id": "150cedc3-544e-4202-9a86-8ef805087054"
  },
  {
   "cell_type": "raw",
   "metadata": {
    "raw_mimetype": "text/html"
   },
   "source": [
    "<!-- #  -->"
   ],
   "id": "69b86508-0082-44d3-847a-9123e3d46623"
  },
  {
   "cell_type": "raw",
   "metadata": {
    "raw_mimetype": "text/html"
   },
   "source": [
    "<!-- # @tbl-history summarises the eruptions recorded since the colonization of the islands by Europeans in the late 1400s. -->"
   ],
   "id": "26f82d53-2383-4915-bb30-7cab436c0a48"
  },
  {
   "cell_type": "raw",
   "metadata": {
    "raw_mimetype": "text/html"
   },
   "source": [
    "<!-- #  -->"
   ],
   "id": "b4462f39-25a0-4e08-8a53-af3e2547e92f"
  },
  {
   "cell_type": "raw",
   "metadata": {
    "raw_mimetype": "text/html"
   },
   "source": [
    "<!-- # ![Map of La Palma](images/la-palma-map.png){#fig-map} -->"
   ],
   "id": "e816f510-0875-4797-8a9e-8ab001e0f6bd"
  },
  {
   "cell_type": "raw",
   "metadata": {
    "raw_mimetype": "text/html"
   },
   "source": [
    "<!-- #  -->"
   ],
   "id": "a0c1fe6f-a921-42bf-a3c9-479e107f1d6e"
  },
  {
   "cell_type": "raw",
   "metadata": {
    "raw_mimetype": "text/html"
   },
   "source": [
    "<!-- # La Palma is one of the west most islands in the Volcanic Archipelago of the Canary Islands (@fig-map).  -->"
   ],
   "id": "0633641d-1e69-426b-8139-84674546e01c"
  },
  {
   "cell_type": "raw",
   "metadata": {
    "raw_mimetype": "text/html"
   },
   "source": [
    "<!-- #  -->"
   ],
   "id": "5b5d28d0-db09-4b63-984c-93f8e3e79f9a"
  },
  {
   "cell_type": "raw",
   "metadata": {
    "raw_mimetype": "text/html"
   },
   "source": [
    "<!-- # {{< embed notebooks/explore-earthquakes.qmd#fig-spatial-plot >}} -->"
   ],
   "id": "ce41cb15-db64-439e-8c1a-2230cd14e6e8"
  },
  {
   "cell_type": "raw",
   "metadata": {
    "raw_mimetype": "text/html"
   },
   "source": [
    "<!-- #  -->"
   ],
   "id": "586b4386-19f8-44e6-a887-10d3d7805ffd"
  },
  {
   "cell_type": "raw",
   "metadata": {
    "raw_mimetype": "text/html"
   },
   "source": [
    "<!-- # @fig-spatial-plot shows the location of recent Earthquakes on La Palma. -->"
   ],
   "id": "33f5c18b-0a35-4718-8dd7-655034f073fc"
  },
  {
   "cell_type": "markdown",
   "metadata": {},
   "source": [
    "## Data & Methods\n",
    "\n",
    "## Conclusion\n",
    "\n",
    "## References"
   ],
   "id": "d828e818-4eb0-44bf-bd68-e9f44e8972a3"
  }
 ],
 "nbformat": 4,
 "nbformat_minor": 5,
 "metadata": {}
}
