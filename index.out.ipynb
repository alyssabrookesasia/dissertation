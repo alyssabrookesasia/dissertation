{
 "cells": [
  {
   "cell_type": "markdown",
   "metadata": {},
   "source": [
    "# Dissertation proposal\n",
    "\n",
    "A. Brooke Sasia [![](data:image/png;base64,iVBORw0KGgoAAAANSUhEUgAAABAAAAAQCAYAAAAf8/9hAAAAGXRFWHRTb2Z0d2FyZQBBZG9iZSBJbWFnZVJlYWR5ccllPAAAA2ZpVFh0WE1MOmNvbS5hZG9iZS54bXAAAAAAADw/eHBhY2tldCBiZWdpbj0i77u/IiBpZD0iVzVNME1wQ2VoaUh6cmVTek5UY3prYzlkIj8+IDx4OnhtcG1ldGEgeG1sbnM6eD0iYWRvYmU6bnM6bWV0YS8iIHg6eG1wdGs9IkFkb2JlIFhNUCBDb3JlIDUuMC1jMDYwIDYxLjEzNDc3NywgMjAxMC8wMi8xMi0xNzozMjowMCAgICAgICAgIj4gPHJkZjpSREYgeG1sbnM6cmRmPSJodHRwOi8vd3d3LnczLm9yZy8xOTk5LzAyLzIyLXJkZi1zeW50YXgtbnMjIj4gPHJkZjpEZXNjcmlwdGlvbiByZGY6YWJvdXQ9IiIgeG1sbnM6eG1wTU09Imh0dHA6Ly9ucy5hZG9iZS5jb20veGFwLzEuMC9tbS8iIHhtbG5zOnN0UmVmPSJodHRwOi8vbnMuYWRvYmUuY29tL3hhcC8xLjAvc1R5cGUvUmVzb3VyY2VSZWYjIiB4bWxuczp4bXA9Imh0dHA6Ly9ucy5hZG9iZS5jb20veGFwLzEuMC8iIHhtcE1NOk9yaWdpbmFsRG9jdW1lbnRJRD0ieG1wLmRpZDo1N0NEMjA4MDI1MjA2ODExOTk0QzkzNTEzRjZEQTg1NyIgeG1wTU06RG9jdW1lbnRJRD0ieG1wLmRpZDozM0NDOEJGNEZGNTcxMUUxODdBOEVCODg2RjdCQ0QwOSIgeG1wTU06SW5zdGFuY2VJRD0ieG1wLmlpZDozM0NDOEJGM0ZGNTcxMUUxODdBOEVCODg2RjdCQ0QwOSIgeG1wOkNyZWF0b3JUb29sPSJBZG9iZSBQaG90b3Nob3AgQ1M1IE1hY2ludG9zaCI+IDx4bXBNTTpEZXJpdmVkRnJvbSBzdFJlZjppbnN0YW5jZUlEPSJ4bXAuaWlkOkZDN0YxMTc0MDcyMDY4MTE5NUZFRDc5MUM2MUUwNEREIiBzdFJlZjpkb2N1bWVudElEPSJ4bXAuZGlkOjU3Q0QyMDgwMjUyMDY4MTE5OTRDOTM1MTNGNkRBODU3Ii8+IDwvcmRmOkRlc2NyaXB0aW9uPiA8L3JkZjpSREY+IDwveDp4bXBtZXRhPiA8P3hwYWNrZXQgZW5kPSJyIj8+84NovQAAAR1JREFUeNpiZEADy85ZJgCpeCB2QJM6AMQLo4yOL0AWZETSqACk1gOxAQN+cAGIA4EGPQBxmJA0nwdpjjQ8xqArmczw5tMHXAaALDgP1QMxAGqzAAPxQACqh4ER6uf5MBlkm0X4EGayMfMw/Pr7Bd2gRBZogMFBrv01hisv5jLsv9nLAPIOMnjy8RDDyYctyAbFM2EJbRQw+aAWw/LzVgx7b+cwCHKqMhjJFCBLOzAR6+lXX84xnHjYyqAo5IUizkRCwIENQQckGSDGY4TVgAPEaraQr2a4/24bSuoExcJCfAEJihXkWDj3ZAKy9EJGaEo8T0QSxkjSwORsCAuDQCD+QILmD1A9kECEZgxDaEZhICIzGcIyEyOl2RkgwAAhkmC+eAm0TAAAAABJRU5ErkJggg==)](https://orcid.org/0000-0002-1311-6606) (Department of Psychology, University of Wisconsin-Madison, Waisman Center, University of Wisconsin-Madison, Center for Demography on Health and Aging, University of Wisconsin-Madison)  \n",
    "James J. Li [![](data:image/png;base64,iVBORw0KGgoAAAANSUhEUgAAABAAAAAQCAYAAAAf8/9hAAAAGXRFWHRTb2Z0d2FyZQBBZG9iZSBJbWFnZVJlYWR5ccllPAAAA2ZpVFh0WE1MOmNvbS5hZG9iZS54bXAAAAAAADw/eHBhY2tldCBiZWdpbj0i77u/IiBpZD0iVzVNME1wQ2VoaUh6cmVTek5UY3prYzlkIj8+IDx4OnhtcG1ldGEgeG1sbnM6eD0iYWRvYmU6bnM6bWV0YS8iIHg6eG1wdGs9IkFkb2JlIFhNUCBDb3JlIDUuMC1jMDYwIDYxLjEzNDc3NywgMjAxMC8wMi8xMi0xNzozMjowMCAgICAgICAgIj4gPHJkZjpSREYgeG1sbnM6cmRmPSJodHRwOi8vd3d3LnczLm9yZy8xOTk5LzAyLzIyLXJkZi1zeW50YXgtbnMjIj4gPHJkZjpEZXNjcmlwdGlvbiByZGY6YWJvdXQ9IiIgeG1sbnM6eG1wTU09Imh0dHA6Ly9ucy5hZG9iZS5jb20veGFwLzEuMC9tbS8iIHhtbG5zOnN0UmVmPSJodHRwOi8vbnMuYWRvYmUuY29tL3hhcC8xLjAvc1R5cGUvUmVzb3VyY2VSZWYjIiB4bWxuczp4bXA9Imh0dHA6Ly9ucy5hZG9iZS5jb20veGFwLzEuMC8iIHhtcE1NOk9yaWdpbmFsRG9jdW1lbnRJRD0ieG1wLmRpZDo1N0NEMjA4MDI1MjA2ODExOTk0QzkzNTEzRjZEQTg1NyIgeG1wTU06RG9jdW1lbnRJRD0ieG1wLmRpZDozM0NDOEJGNEZGNTcxMUUxODdBOEVCODg2RjdCQ0QwOSIgeG1wTU06SW5zdGFuY2VJRD0ieG1wLmlpZDozM0NDOEJGM0ZGNTcxMUUxODdBOEVCODg2RjdCQ0QwOSIgeG1wOkNyZWF0b3JUb29sPSJBZG9iZSBQaG90b3Nob3AgQ1M1IE1hY2ludG9zaCI+IDx4bXBNTTpEZXJpdmVkRnJvbSBzdFJlZjppbnN0YW5jZUlEPSJ4bXAuaWlkOkZDN0YxMTc0MDcyMDY4MTE5NUZFRDc5MUM2MUUwNEREIiBzdFJlZjpkb2N1bWVudElEPSJ4bXAuZGlkOjU3Q0QyMDgwMjUyMDY4MTE5OTRDOTM1MTNGNkRBODU3Ii8+IDwvcmRmOkRlc2NyaXB0aW9uPiA8L3JkZjpSREY+IDwveDp4bXBtZXRhPiA8P3hwYWNrZXQgZW5kPSJyIj8+84NovQAAAR1JREFUeNpiZEADy85ZJgCpeCB2QJM6AMQLo4yOL0AWZETSqACk1gOxAQN+cAGIA4EGPQBxmJA0nwdpjjQ8xqArmczw5tMHXAaALDgP1QMxAGqzAAPxQACqh4ER6uf5MBlkm0X4EGayMfMw/Pr7Bd2gRBZogMFBrv01hisv5jLsv9nLAPIOMnjy8RDDyYctyAbFM2EJbRQw+aAWw/LzVgx7b+cwCHKqMhjJFCBLOzAR6+lXX84xnHjYyqAo5IUizkRCwIENQQckGSDGY4TVgAPEaraQr2a4/24bSuoExcJCfAEJihXkWDj3ZAKy9EJGaEo8T0QSxkjSwORsCAuDQCD+QILmD1A9kECEZgxDaEZhICIzGcIyEyOl2RkgwAAhkmC+eAm0TAAAAABJRU5ErkJggg==)](https://orcid.org/0000-0001-8031-7216) (Department of Psychology, University of Wisconsin-Madison, Waisman Center, University of Wisconsin-Madison, Center for Demography on Health and Aging, University of Wisconsin-Madison)  \n",
    "December 16, 2024\n",
    "\n",
    "In September 2021, a significant jump in seismic activity on the island of La Palma (Canary Islands, Spain) signaledn the start of a volcanic crisis that still continues at the time of writing. Earthquake data is continually collected and published by the Instituto Geográphico Nacional (IGN). …\n",
    "\n",
    "## 1 Introduction"
   ],
   "id": "2067874e-1f80-4c43-8882-3ef1268d6b89"
  },
  {
   "cell_type": "raw",
   "metadata": {
    "raw_mimetype": "text/html"
   },
   "source": [
    "<!-- # ```{r} -->"
   ],
   "id": "2c5d07bd-0009-4c72-b222-f064a52eb7a6"
  },
  {
   "cell_type": "raw",
   "metadata": {
    "raw_mimetype": "text/html"
   },
   "source": [
    "<!-- # #| include: false -->"
   ],
   "id": "15778e73-80dc-4079-b133-eb3811562ebe"
  },
  {
   "cell_type": "raw",
   "metadata": {
    "raw_mimetype": "text/html"
   },
   "source": [
    "<!-- #  -->"
   ],
   "id": "ac9914da-11a5-40bc-b455-d388b55dae91"
  },
  {
   "cell_type": "raw",
   "metadata": {
    "raw_mimetype": "text/html"
   },
   "source": [
    "<!-- # eruptions <- c(1492, 1585, 1646, 1677, 1712, 1949, 1971, 2021) -->"
   ],
   "id": "7527bad0-3a58-4020-b4a6-fd6e9b532975"
  },
  {
   "cell_type": "raw",
   "metadata": {
    "raw_mimetype": "text/html"
   },
   "source": [
    "<!-- # n_eruptions <- length(eruptions) -->"
   ],
   "id": "f935de5e-f476-4ac8-9e88-c96adbede2de"
  },
  {
   "cell_type": "raw",
   "metadata": {
    "raw_mimetype": "text/html"
   },
   "source": [
    "<!-- # ``` -->"
   ],
   "id": "718d172e-eb10-46b3-9c37-55795f925890"
  },
  {
   "cell_type": "raw",
   "metadata": {
    "raw_mimetype": "text/html"
   },
   "source": [
    "<!-- #  -->"
   ],
   "id": "1c0bbbce-d098-4cf5-bc61-fde9b9cf26ca"
  },
  {
   "cell_type": "raw",
   "metadata": {
    "raw_mimetype": "text/html"
   },
   "source": [
    "<!-- # ```{r} -->"
   ],
   "id": "2ce845f3-72f4-4c15-8479-d2949f8e9bf5"
  },
  {
   "cell_type": "raw",
   "metadata": {
    "raw_mimetype": "text/html"
   },
   "source": [
    "<!-- # #| label: fig-timeline -->"
   ],
   "id": "f191aa05-87ca-4880-ae4e-8367d4f5eec4"
  },
  {
   "cell_type": "raw",
   "metadata": {
    "raw_mimetype": "text/html"
   },
   "source": [
    "<!-- # #| fig-cap: Timeline of recent earthquakes on La Palma -->"
   ],
   "id": "4377220c-99c4-4512-8647-93b562d35ea2"
  },
  {
   "cell_type": "raw",
   "metadata": {
    "raw_mimetype": "text/html"
   },
   "source": [
    "<!-- # #| fig-alt: An event plot of the years of the last 8 eruptions on La Palma. -->"
   ],
   "id": "60953494-74fb-438f-b5f6-a34d7dada40f"
  },
  {
   "cell_type": "raw",
   "metadata": {
    "raw_mimetype": "text/html"
   },
   "source": [
    "<!-- # #| fig-height: 1.5 -->"
   ],
   "id": "7c66ffcd-d1e4-4777-bfe2-268dc98fd190"
  },
  {
   "cell_type": "raw",
   "metadata": {
    "raw_mimetype": "text/html"
   },
   "source": [
    "<!-- # #| fig-width: 6 -->"
   ],
   "id": "e2d202c6-8049-4461-8a7c-5de9d6ab50cc"
  },
  {
   "cell_type": "raw",
   "metadata": {
    "raw_mimetype": "text/html"
   },
   "source": [
    "<!-- # par(mar = c(3, 1, 1, 1) + 0.1) -->"
   ],
   "id": "78421751-fe0a-4199-bccf-876e212ee6fa"
  },
  {
   "cell_type": "raw",
   "metadata": {
    "raw_mimetype": "text/html"
   },
   "source": [
    "<!-- # plot(eruptions, rep(0, n_eruptions),  -->"
   ],
   "id": "47198e8b-757b-41c3-9f5b-80ccca7665e7"
  },
  {
   "cell_type": "raw",
   "metadata": {
    "raw_mimetype": "text/html"
   },
   "source": [
    "<!-- #   pch = \"|\", axes = FALSE) -->"
   ],
   "id": "1a3ef5ba-38bd-46af-89df-13993f8dfe23"
  },
  {
   "cell_type": "raw",
   "metadata": {
    "raw_mimetype": "text/html"
   },
   "source": [
    "<!-- # axis(1) -->"
   ],
   "id": "4717dc25-cc21-4288-b530-d535fb0f4edb"
  },
  {
   "cell_type": "raw",
   "metadata": {
    "raw_mimetype": "text/html"
   },
   "source": [
    "<!-- # box() -->"
   ],
   "id": "5f02dd60-c12a-4901-92fd-d7781653e236"
  },
  {
   "cell_type": "raw",
   "metadata": {
    "raw_mimetype": "text/html"
   },
   "source": [
    "<!-- # ``` -->"
   ],
   "id": "d92366c5-fb4f-4d7a-ba57-36e159fabc9d"
  },
  {
   "cell_type": "raw",
   "metadata": {
    "raw_mimetype": "text/html"
   },
   "source": [
    "<!-- #  -->"
   ],
   "id": "7f96a02a-64cd-4897-8410-4322e2ee8a7c"
  },
  {
   "cell_type": "raw",
   "metadata": {
    "raw_mimetype": "text/html"
   },
   "source": [
    "<!-- # ```{r} -->"
   ],
   "id": "14a65703-1967-4c18-9ba1-2f3259771668"
  },
  {
   "cell_type": "raw",
   "metadata": {
    "raw_mimetype": "text/html"
   },
   "source": [
    "<!-- # #| output: false -->"
   ],
   "id": "71b15b07-0432-41b5-9d83-04e738c33ed3"
  },
  {
   "cell_type": "raw",
   "metadata": {
    "raw_mimetype": "text/html"
   },
   "source": [
    "<!-- # avg_years_between_eruptions <- mean(diff(eruptions[-n_eruptions])) -->"
   ],
   "id": "7c9977cc-fd70-442a-96f0-ffd840a9c793"
  },
  {
   "cell_type": "raw",
   "metadata": {
    "raw_mimetype": "text/html"
   },
   "source": [
    "<!-- # avg_years_between_eruptions -->"
   ],
   "id": "a456eef4-ead0-42d0-aaf8-de5d25c766b8"
  },
  {
   "cell_type": "raw",
   "metadata": {
    "raw_mimetype": "text/html"
   },
   "source": [
    "<!-- # ``` -->"
   ],
   "id": "a601c899-25e8-4930-9fde-3156eec342e0"
  },
  {
   "cell_type": "raw",
   "metadata": {
    "raw_mimetype": "text/html"
   },
   "source": [
    "<!-- #  -->"
   ],
   "id": "74a95bbe-57ac-4630-a8e5-93cda4ce1291"
  },
  {
   "cell_type": "raw",
   "metadata": {
    "raw_mimetype": "text/html"
   },
   "source": [
    "<!-- # Based on data up to and including 1971, eruptions on La Palma happen every `{r} round(avg_years_between_eruptions, 1)` years on average. -->"
   ],
   "id": "81e572ae-26e0-4856-8bc1-45d734447eab"
  },
  {
   "cell_type": "raw",
   "metadata": {
    "raw_mimetype": "text/html"
   },
   "source": [
    "<!-- #  -->"
   ],
   "id": "e423a563-b5b1-44b2-b6ec-e421178847e2"
  },
  {
   "cell_type": "raw",
   "metadata": {
    "raw_mimetype": "text/html"
   },
   "source": [
    "<!-- # Studies of the magma systems feeding the volcano, such as @marrero2019, have proposed that there are two main magma reservoirs feeding the Cumbre Vieja volcano; one in the mantle (30-40km depth) which charges and in turn feeds a shallower crustal reservoir (10-20km depth). -->"
   ],
   "id": "abfec817-2503-4673-a699-6726d90c65d5"
  },
  {
   "cell_type": "raw",
   "metadata": {
    "raw_mimetype": "text/html"
   },
   "source": [
    "<!-- #  -->"
   ],
   "id": "0ca199ed-5df4-4b4b-a197-53ed665ac018"
  },
  {
   "cell_type": "raw",
   "metadata": {
    "raw_mimetype": "text/html"
   },
   "source": [
    "<!-- # Eight eruptions have been recorded since the late 1400s (@fig-timeline). -->"
   ],
   "id": "b570b378-5cf3-4a86-8233-9442acd370b2"
  },
  {
   "cell_type": "raw",
   "metadata": {
    "raw_mimetype": "text/html"
   },
   "source": [
    "<!-- #  -->"
   ],
   "id": "c7879da7-df15-4c2b-bd6c-317ee6b5c07d"
  },
  {
   "cell_type": "raw",
   "metadata": {
    "raw_mimetype": "text/html"
   },
   "source": [
    "<!-- # Data and methods are discussed in @sec-data-methods. -->"
   ],
   "id": "52ce335c-347f-4cc8-933f-281628ea9d7a"
  },
  {
   "cell_type": "raw",
   "metadata": {
    "raw_mimetype": "text/html"
   },
   "source": [
    "<!-- #  -->"
   ],
   "id": "9851e104-13cc-4e6b-ab54-07a793abd0ac"
  },
  {
   "cell_type": "raw",
   "metadata": {
    "raw_mimetype": "text/html"
   },
   "source": [
    "<!-- # Let $x$ denote the number of eruptions in a year. Then, $x$ can be modeled by a Poisson distribution -->"
   ],
   "id": "818af2df-4051-454b-b5a7-c63118b02523"
  },
  {
   "cell_type": "raw",
   "metadata": {
    "raw_mimetype": "text/html"
   },
   "source": [
    "<!-- #  -->"
   ],
   "id": "09562771-5060-4ceb-afc2-ac13827f17f8"
  },
  {
   "cell_type": "raw",
   "metadata": {
    "raw_mimetype": "text/html"
   },
   "source": [
    "<!-- # $$ -->"
   ],
   "id": "8fb0cff0-eb27-4328-b375-b24f33de87a0"
  },
  {
   "cell_type": "raw",
   "metadata": {
    "raw_mimetype": "text/html"
   },
   "source": [
    "<!-- # p(x) = \\frac{e^{-\\lambda} \\lambda^{x}}{x !} -->"
   ],
   "id": "cf5755e6-ec2b-406a-a5fb-a9f30ddb051f"
  },
  {
   "cell_type": "raw",
   "metadata": {
    "raw_mimetype": "text/html"
   },
   "source": [
    "<!-- # $$ {#eq-poisson} -->"
   ],
   "id": "71a43bf0-5de5-42ec-8899-7807864b6ed6"
  },
  {
   "cell_type": "raw",
   "metadata": {
    "raw_mimetype": "text/html"
   },
   "source": [
    "<!-- #  -->"
   ],
   "id": "fa13cde3-7209-46e4-aa1b-78d4116ceffc"
  },
  {
   "cell_type": "raw",
   "metadata": {
    "raw_mimetype": "text/html"
   },
   "source": [
    "<!-- # where $\\lambda$ is the rate of eruptions per year. Using @eq-poisson, the probability of an eruption in the next $t$ years can be calculated. -->"
   ],
   "id": "b44d071c-9afb-4927-96dd-f50953adca12"
  },
  {
   "cell_type": "raw",
   "metadata": {
    "raw_mimetype": "text/html"
   },
   "source": [
    "<!-- #  -->"
   ],
   "id": "324ad790-3d7a-4d29-a52e-f548becce349"
  },
  {
   "cell_type": "raw",
   "metadata": {
    "raw_mimetype": "text/html"
   },
   "source": [
    "<!-- # | Name                 | Year   | -->"
   ],
   "id": "015ac036-5857-4a6e-bd5e-476f9de99580"
  },
  {
   "cell_type": "raw",
   "metadata": {
    "raw_mimetype": "text/html"
   },
   "source": [
    "<!-- # | -------------------- | ------ | -->"
   ],
   "id": "0b7d3848-8ded-46db-a483-1bb306ed5a7a"
  },
  {
   "cell_type": "raw",
   "metadata": {
    "raw_mimetype": "text/html"
   },
   "source": [
    "<!-- # | Current              | 2021   | -->"
   ],
   "id": "8ce3dc10-399b-446f-be63-01cbd62c8ad9"
  },
  {
   "cell_type": "raw",
   "metadata": {
    "raw_mimetype": "text/html"
   },
   "source": [
    "<!-- # | Teneguía             | 1971   | -->"
   ],
   "id": "46da2989-d498-40d4-8807-a85dcc14719e"
  },
  {
   "cell_type": "raw",
   "metadata": {
    "raw_mimetype": "text/html"
   },
   "source": [
    "<!-- # | Nambroque            | 1949   | -->"
   ],
   "id": "1cac652f-b73a-4b72-b537-e8f7ce76baed"
  },
  {
   "cell_type": "raw",
   "metadata": {
    "raw_mimetype": "text/html"
   },
   "source": [
    "<!-- # | El Charco            | 1712   | -->"
   ],
   "id": "6bc6b38d-0963-4fea-9bc7-6440a682f791"
  },
  {
   "cell_type": "raw",
   "metadata": {
    "raw_mimetype": "text/html"
   },
   "source": [
    "<!-- # | Volcán San Antonio   | 1677   | -->"
   ],
   "id": "bdb82cad-419c-46cc-b974-68e407629c0d"
  },
  {
   "cell_type": "raw",
   "metadata": {
    "raw_mimetype": "text/html"
   },
   "source": [
    "<!-- # | Volcán San Martin    | 1646   | -->"
   ],
   "id": "160de880-91d2-4a8c-9d05-60bd6675d3c4"
  },
  {
   "cell_type": "raw",
   "metadata": {
    "raw_mimetype": "text/html"
   },
   "source": [
    "<!-- # | Tajuya near El Paso  | 1585   | -->"
   ],
   "id": "19543ab2-0216-4c5a-8de7-82c1a426ff78"
  },
  {
   "cell_type": "raw",
   "metadata": {
    "raw_mimetype": "text/html"
   },
   "source": [
    "<!-- # | Montaña Quemada      | 1492   | -->"
   ],
   "id": "76ce9ac2-e9d7-47d1-9c9b-e8d1f0948ca3"
  },
  {
   "cell_type": "raw",
   "metadata": {
    "raw_mimetype": "text/html"
   },
   "source": [
    "<!-- #  -->"
   ],
   "id": "7835b774-74f6-48fa-b549-d18d55a302a5"
  },
  {
   "cell_type": "raw",
   "metadata": {
    "raw_mimetype": "text/html"
   },
   "source": [
    "<!-- # : Recent historic eruptions on La Palma {#tbl-history} -->"
   ],
   "id": "a2cb6188-dbcd-4d31-9e74-b0cacf2f6bcc"
  },
  {
   "cell_type": "raw",
   "metadata": {
    "raw_mimetype": "text/html"
   },
   "source": [
    "<!-- #  -->"
   ],
   "id": "24e61d25-50f9-4807-bf67-b2c9aee2f370"
  },
  {
   "cell_type": "raw",
   "metadata": {
    "raw_mimetype": "text/html"
   },
   "source": [
    "<!-- # @tbl-history summarises the eruptions recorded since the colonization of the islands by Europeans in the late 1400s. -->"
   ],
   "id": "caf5e142-b412-4021-9eec-b6ec8995e43a"
  },
  {
   "cell_type": "raw",
   "metadata": {
    "raw_mimetype": "text/html"
   },
   "source": [
    "<!-- #  -->"
   ],
   "id": "9954075a-993c-44f4-a34b-fc84cbafda0f"
  },
  {
   "cell_type": "raw",
   "metadata": {
    "raw_mimetype": "text/html"
   },
   "source": [
    "<!-- # ![Map of La Palma](images/la-palma-map.png){#fig-map} -->"
   ],
   "id": "232f4e99-6c98-4c14-bf04-8051ae616f0f"
  },
  {
   "cell_type": "raw",
   "metadata": {
    "raw_mimetype": "text/html"
   },
   "source": [
    "<!-- #  -->"
   ],
   "id": "07efc664-4e17-4aa8-9739-836a7d5f2d12"
  },
  {
   "cell_type": "raw",
   "metadata": {
    "raw_mimetype": "text/html"
   },
   "source": [
    "<!-- # La Palma is one of the west most islands in the Volcanic Archipelago of the Canary Islands (@fig-map).  -->"
   ],
   "id": "799b41cb-68fe-49df-9f28-12b9e869aad0"
  },
  {
   "cell_type": "raw",
   "metadata": {
    "raw_mimetype": "text/html"
   },
   "source": [
    "<!-- #  -->"
   ],
   "id": "ac1bdb36-32b8-44c6-b239-32888b04793d"
  },
  {
   "cell_type": "raw",
   "metadata": {
    "raw_mimetype": "text/html"
   },
   "source": [
    "<!-- # {{< embed notebooks/explore-earthquakes.qmd#fig-spatial-plot >}} -->"
   ],
   "id": "dc32d40f-bc25-4798-a0fc-ebb8cccc167c"
  },
  {
   "cell_type": "raw",
   "metadata": {
    "raw_mimetype": "text/html"
   },
   "source": [
    "<!-- #  -->"
   ],
   "id": "8ae9f3fb-e94c-4d0d-90a9-05f143cf1d87"
  },
  {
   "cell_type": "raw",
   "metadata": {
    "raw_mimetype": "text/html"
   },
   "source": [
    "<!-- # @fig-spatial-plot shows the location of recent Earthquakes on La Palma. -->"
   ],
   "id": "6c461936-5768-4292-ac61-7cd90e06679d"
  },
  {
   "cell_type": "markdown",
   "metadata": {},
   "source": [
    "## 2 Data & Methods\n",
    "\n",
    "## 3 Conclusion\n",
    "\n",
    "## References"
   ],
   "id": "a9ec549f-ec6c-45cb-a72e-23341eae7980"
  }
 ],
 "nbformat": 4,
 "nbformat_minor": 5,
 "metadata": {}
}
