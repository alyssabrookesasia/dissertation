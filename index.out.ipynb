{
 "cells": [
  {
   "cell_type": "markdown",
   "metadata": {},
   "source": [
    "# Dissertation proposal\n",
    "\n",
    "A. Brooke Sasia [![](data:image/png;base64,iVBORw0KGgoAAAANSUhEUgAAABAAAAAQCAYAAAAf8/9hAAAAGXRFWHRTb2Z0d2FyZQBBZG9iZSBJbWFnZVJlYWR5ccllPAAAA2ZpVFh0WE1MOmNvbS5hZG9iZS54bXAAAAAAADw/eHBhY2tldCBiZWdpbj0i77u/IiBpZD0iVzVNME1wQ2VoaUh6cmVTek5UY3prYzlkIj8+IDx4OnhtcG1ldGEgeG1sbnM6eD0iYWRvYmU6bnM6bWV0YS8iIHg6eG1wdGs9IkFkb2JlIFhNUCBDb3JlIDUuMC1jMDYwIDYxLjEzNDc3NywgMjAxMC8wMi8xMi0xNzozMjowMCAgICAgICAgIj4gPHJkZjpSREYgeG1sbnM6cmRmPSJodHRwOi8vd3d3LnczLm9yZy8xOTk5LzAyLzIyLXJkZi1zeW50YXgtbnMjIj4gPHJkZjpEZXNjcmlwdGlvbiByZGY6YWJvdXQ9IiIgeG1sbnM6eG1wTU09Imh0dHA6Ly9ucy5hZG9iZS5jb20veGFwLzEuMC9tbS8iIHhtbG5zOnN0UmVmPSJodHRwOi8vbnMuYWRvYmUuY29tL3hhcC8xLjAvc1R5cGUvUmVzb3VyY2VSZWYjIiB4bWxuczp4bXA9Imh0dHA6Ly9ucy5hZG9iZS5jb20veGFwLzEuMC8iIHhtcE1NOk9yaWdpbmFsRG9jdW1lbnRJRD0ieG1wLmRpZDo1N0NEMjA4MDI1MjA2ODExOTk0QzkzNTEzRjZEQTg1NyIgeG1wTU06RG9jdW1lbnRJRD0ieG1wLmRpZDozM0NDOEJGNEZGNTcxMUUxODdBOEVCODg2RjdCQ0QwOSIgeG1wTU06SW5zdGFuY2VJRD0ieG1wLmlpZDozM0NDOEJGM0ZGNTcxMUUxODdBOEVCODg2RjdCQ0QwOSIgeG1wOkNyZWF0b3JUb29sPSJBZG9iZSBQaG90b3Nob3AgQ1M1IE1hY2ludG9zaCI+IDx4bXBNTTpEZXJpdmVkRnJvbSBzdFJlZjppbnN0YW5jZUlEPSJ4bXAuaWlkOkZDN0YxMTc0MDcyMDY4MTE5NUZFRDc5MUM2MUUwNEREIiBzdFJlZjpkb2N1bWVudElEPSJ4bXAuZGlkOjU3Q0QyMDgwMjUyMDY4MTE5OTRDOTM1MTNGNkRBODU3Ii8+IDwvcmRmOkRlc2NyaXB0aW9uPiA8L3JkZjpSREY+IDwveDp4bXBtZXRhPiA8P3hwYWNrZXQgZW5kPSJyIj8+84NovQAAAR1JREFUeNpiZEADy85ZJgCpeCB2QJM6AMQLo4yOL0AWZETSqACk1gOxAQN+cAGIA4EGPQBxmJA0nwdpjjQ8xqArmczw5tMHXAaALDgP1QMxAGqzAAPxQACqh4ER6uf5MBlkm0X4EGayMfMw/Pr7Bd2gRBZogMFBrv01hisv5jLsv9nLAPIOMnjy8RDDyYctyAbFM2EJbRQw+aAWw/LzVgx7b+cwCHKqMhjJFCBLOzAR6+lXX84xnHjYyqAo5IUizkRCwIENQQckGSDGY4TVgAPEaraQr2a4/24bSuoExcJCfAEJihXkWDj3ZAKy9EJGaEo8T0QSxkjSwORsCAuDQCD+QILmD1A9kECEZgxDaEZhICIzGcIyEyOl2RkgwAAhkmC+eAm0TAAAAABJRU5ErkJggg==)](https://orcid.org/0000-0002-1311-6606) (Department of Psychology, University of Wisconsin-Madison, Waisman Center, University of Wisconsin-Madison, Center for Demography on Health and Aging, University of Wisconsin-Madison)  \n",
    "James J. Li [![](data:image/png;base64,iVBORw0KGgoAAAANSUhEUgAAABAAAAAQCAYAAAAf8/9hAAAAGXRFWHRTb2Z0d2FyZQBBZG9iZSBJbWFnZVJlYWR5ccllPAAAA2ZpVFh0WE1MOmNvbS5hZG9iZS54bXAAAAAAADw/eHBhY2tldCBiZWdpbj0i77u/IiBpZD0iVzVNME1wQ2VoaUh6cmVTek5UY3prYzlkIj8+IDx4OnhtcG1ldGEgeG1sbnM6eD0iYWRvYmU6bnM6bWV0YS8iIHg6eG1wdGs9IkFkb2JlIFhNUCBDb3JlIDUuMC1jMDYwIDYxLjEzNDc3NywgMjAxMC8wMi8xMi0xNzozMjowMCAgICAgICAgIj4gPHJkZjpSREYgeG1sbnM6cmRmPSJodHRwOi8vd3d3LnczLm9yZy8xOTk5LzAyLzIyLXJkZi1zeW50YXgtbnMjIj4gPHJkZjpEZXNjcmlwdGlvbiByZGY6YWJvdXQ9IiIgeG1sbnM6eG1wTU09Imh0dHA6Ly9ucy5hZG9iZS5jb20veGFwLzEuMC9tbS8iIHhtbG5zOnN0UmVmPSJodHRwOi8vbnMuYWRvYmUuY29tL3hhcC8xLjAvc1R5cGUvUmVzb3VyY2VSZWYjIiB4bWxuczp4bXA9Imh0dHA6Ly9ucy5hZG9iZS5jb20veGFwLzEuMC8iIHhtcE1NOk9yaWdpbmFsRG9jdW1lbnRJRD0ieG1wLmRpZDo1N0NEMjA4MDI1MjA2ODExOTk0QzkzNTEzRjZEQTg1NyIgeG1wTU06RG9jdW1lbnRJRD0ieG1wLmRpZDozM0NDOEJGNEZGNTcxMUUxODdBOEVCODg2RjdCQ0QwOSIgeG1wTU06SW5zdGFuY2VJRD0ieG1wLmlpZDozM0NDOEJGM0ZGNTcxMUUxODdBOEVCODg2RjdCQ0QwOSIgeG1wOkNyZWF0b3JUb29sPSJBZG9iZSBQaG90b3Nob3AgQ1M1IE1hY2ludG9zaCI+IDx4bXBNTTpEZXJpdmVkRnJvbSBzdFJlZjppbnN0YW5jZUlEPSJ4bXAuaWlkOkZDN0YxMTc0MDcyMDY4MTE5NUZFRDc5MUM2MUUwNEREIiBzdFJlZjpkb2N1bWVudElEPSJ4bXAuZGlkOjU3Q0QyMDgwMjUyMDY4MTE5OTRDOTM1MTNGNkRBODU3Ii8+IDwvcmRmOkRlc2NyaXB0aW9uPiA8L3JkZjpSREY+IDwveDp4bXBtZXRhPiA8P3hwYWNrZXQgZW5kPSJyIj8+84NovQAAAR1JREFUeNpiZEADy85ZJgCpeCB2QJM6AMQLo4yOL0AWZETSqACk1gOxAQN+cAGIA4EGPQBxmJA0nwdpjjQ8xqArmczw5tMHXAaALDgP1QMxAGqzAAPxQACqh4ER6uf5MBlkm0X4EGayMfMw/Pr7Bd2gRBZogMFBrv01hisv5jLsv9nLAPIOMnjy8RDDyYctyAbFM2EJbRQw+aAWw/LzVgx7b+cwCHKqMhjJFCBLOzAR6+lXX84xnHjYyqAo5IUizkRCwIENQQckGSDGY4TVgAPEaraQr2a4/24bSuoExcJCfAEJihXkWDj3ZAKy9EJGaEo8T0QSxkjSwORsCAuDQCD+QILmD1A9kECEZgxDaEZhICIzGcIyEyOl2RkgwAAhkmC+eAm0TAAAAABJRU5ErkJggg==)](https://orcid.org/0000-0001-8031-7216) (Department of Psychology, University of Wisconsin-Madison, Waisman Center, University of Wisconsin-Madison, Center for Demography on Health and Aging, University of Wisconsin-Madison)  \n",
    "December 16, 2024\n",
    "\n",
    "In September 2021, a significant jump in seismic activity on the island of La Palma (Canary Islands, Spain) signaledn the start of a volcanic crisis that still continues at the time of writing. Earthquake data is continually collected and published by the Instituto Geográphico Nacional (IGN). …\n",
    "\n",
    "## 1 Introduction"
   ],
   "id": "8e8c1e2d-8465-41ea-8d69-cad39a607bac"
  },
  {
   "cell_type": "raw",
   "metadata": {
    "raw_mimetype": "text/html"
   },
   "source": [
    "<!-- # ```{r} -->"
   ],
   "id": "2591356f-f3cf-40a7-b89b-e3cd6b941055"
  },
  {
   "cell_type": "raw",
   "metadata": {
    "raw_mimetype": "text/html"
   },
   "source": [
    "<!-- # #| include: false -->"
   ],
   "id": "f8d6604d-544d-44a5-879d-32890f9ffc8f"
  },
  {
   "cell_type": "raw",
   "metadata": {
    "raw_mimetype": "text/html"
   },
   "source": [
    "<!-- #  -->"
   ],
   "id": "e869b70e-e96a-493f-b795-c95bd18fa95b"
  },
  {
   "cell_type": "raw",
   "metadata": {
    "raw_mimetype": "text/html"
   },
   "source": [
    "<!-- # eruptions <- c(1492, 1585, 1646, 1677, 1712, 1949, 1971, 2021) -->"
   ],
   "id": "77a908ba-caa3-4f0f-aa74-43e11780cd7a"
  },
  {
   "cell_type": "raw",
   "metadata": {
    "raw_mimetype": "text/html"
   },
   "source": [
    "<!-- # n_eruptions <- length(eruptions) -->"
   ],
   "id": "c36f1d4b-9cbb-4fdd-ae43-95153ba8e03f"
  },
  {
   "cell_type": "raw",
   "metadata": {
    "raw_mimetype": "text/html"
   },
   "source": [
    "<!-- # ``` -->"
   ],
   "id": "5faaf528-fe1d-4d40-a75e-9bc6a86f51da"
  },
  {
   "cell_type": "raw",
   "metadata": {
    "raw_mimetype": "text/html"
   },
   "source": [
    "<!-- #  -->"
   ],
   "id": "ca262302-334b-49b6-9816-71269fc01639"
  },
  {
   "cell_type": "raw",
   "metadata": {
    "raw_mimetype": "text/html"
   },
   "source": [
    "<!-- # ```{r} -->"
   ],
   "id": "bed6fb7d-e1dc-42c8-b9bb-8b76b63b64e9"
  },
  {
   "cell_type": "raw",
   "metadata": {
    "raw_mimetype": "text/html"
   },
   "source": [
    "<!-- # #| label: fig-timeline -->"
   ],
   "id": "2bba3733-2059-47a4-b443-34ae79f67c96"
  },
  {
   "cell_type": "raw",
   "metadata": {
    "raw_mimetype": "text/html"
   },
   "source": [
    "<!-- # #| fig-cap: Timeline of recent earthquakes on La Palma -->"
   ],
   "id": "b0355277-ce1b-4e71-836d-02ef03c56265"
  },
  {
   "cell_type": "raw",
   "metadata": {
    "raw_mimetype": "text/html"
   },
   "source": [
    "<!-- # #| fig-alt: An event plot of the years of the last 8 eruptions on La Palma. -->"
   ],
   "id": "f2e51bea-c528-4bcd-a8af-1d8118c864a2"
  },
  {
   "cell_type": "raw",
   "metadata": {
    "raw_mimetype": "text/html"
   },
   "source": [
    "<!-- # #| fig-height: 1.5 -->"
   ],
   "id": "17419b4e-1a1e-4698-a803-4dbe8e4e80d1"
  },
  {
   "cell_type": "raw",
   "metadata": {
    "raw_mimetype": "text/html"
   },
   "source": [
    "<!-- # #| fig-width: 6 -->"
   ],
   "id": "51b3f543-83f0-4a11-bf43-eb8bf5e69e7b"
  },
  {
   "cell_type": "raw",
   "metadata": {
    "raw_mimetype": "text/html"
   },
   "source": [
    "<!-- # par(mar = c(3, 1, 1, 1) + 0.1) -->"
   ],
   "id": "a49a4c12-d83b-415d-a26d-93cba1cd1578"
  },
  {
   "cell_type": "raw",
   "metadata": {
    "raw_mimetype": "text/html"
   },
   "source": [
    "<!-- # plot(eruptions, rep(0, n_eruptions),  -->"
   ],
   "id": "c6275be2-5171-4b1f-86d2-74b400056dc1"
  },
  {
   "cell_type": "raw",
   "metadata": {
    "raw_mimetype": "text/html"
   },
   "source": [
    "<!-- #   pch = \"|\", axes = FALSE) -->"
   ],
   "id": "1136d6a4-7ee8-41c5-be98-35c439965e3d"
  },
  {
   "cell_type": "raw",
   "metadata": {
    "raw_mimetype": "text/html"
   },
   "source": [
    "<!-- # axis(1) -->"
   ],
   "id": "bf740a3d-c199-45f4-9bdd-80a3b7bd5c60"
  },
  {
   "cell_type": "raw",
   "metadata": {
    "raw_mimetype": "text/html"
   },
   "source": [
    "<!-- # box() -->"
   ],
   "id": "96113bb3-4d23-47ca-bb92-3f4afe60e308"
  },
  {
   "cell_type": "raw",
   "metadata": {
    "raw_mimetype": "text/html"
   },
   "source": [
    "<!-- # ``` -->"
   ],
   "id": "a647a6df-1805-40f6-8d57-82e8ab5f251d"
  },
  {
   "cell_type": "raw",
   "metadata": {
    "raw_mimetype": "text/html"
   },
   "source": [
    "<!-- #  -->"
   ],
   "id": "736fc06f-b818-4fdc-809e-14c5028d0665"
  },
  {
   "cell_type": "raw",
   "metadata": {
    "raw_mimetype": "text/html"
   },
   "source": [
    "<!-- # ```{r} -->"
   ],
   "id": "55dff5c9-d204-49f9-bf34-7292bb59b992"
  },
  {
   "cell_type": "raw",
   "metadata": {
    "raw_mimetype": "text/html"
   },
   "source": [
    "<!-- # #| output: false -->"
   ],
   "id": "688a7884-a888-473a-a5b3-fdef947ae246"
  },
  {
   "cell_type": "raw",
   "metadata": {
    "raw_mimetype": "text/html"
   },
   "source": [
    "<!-- # avg_years_between_eruptions <- mean(diff(eruptions[-n_eruptions])) -->"
   ],
   "id": "e53193a2-4d85-4588-a197-becffc5be878"
  },
  {
   "cell_type": "raw",
   "metadata": {
    "raw_mimetype": "text/html"
   },
   "source": [
    "<!-- # avg_years_between_eruptions -->"
   ],
   "id": "654b29b3-4710-4ea6-84d9-bcc2cd8fc1ab"
  },
  {
   "cell_type": "raw",
   "metadata": {
    "raw_mimetype": "text/html"
   },
   "source": [
    "<!-- # ``` -->"
   ],
   "id": "08b09646-3cda-4ff4-b65a-d6131c04157b"
  },
  {
   "cell_type": "raw",
   "metadata": {
    "raw_mimetype": "text/html"
   },
   "source": [
    "<!-- #  -->"
   ],
   "id": "407c3f0d-fa99-4c4d-a252-cfe82994b19b"
  },
  {
   "cell_type": "raw",
   "metadata": {
    "raw_mimetype": "text/html"
   },
   "source": [
    "<!-- # Based on data up to and including 1971, eruptions on La Palma happen every `{r} round(avg_years_between_eruptions, 1)` years on average. -->"
   ],
   "id": "c0730702-ad32-4ff3-b191-753c718e4455"
  },
  {
   "cell_type": "raw",
   "metadata": {
    "raw_mimetype": "text/html"
   },
   "source": [
    "<!-- #  -->"
   ],
   "id": "3d19d301-87c6-40aa-b69c-eda7237f0007"
  },
  {
   "cell_type": "raw",
   "metadata": {
    "raw_mimetype": "text/html"
   },
   "source": [
    "<!-- # Studies of the magma systems feeding the volcano, such as @marrero2019, have proposed that there are two main magma reservoirs feeding the Cumbre Vieja volcano; one in the mantle (30-40km depth) which charges and in turn feeds a shallower crustal reservoir (10-20km depth). -->"
   ],
   "id": "2a397ec2-d171-4796-9924-be53a737dd76"
  },
  {
   "cell_type": "raw",
   "metadata": {
    "raw_mimetype": "text/html"
   },
   "source": [
    "<!-- #  -->"
   ],
   "id": "b13d028a-466a-48fa-8377-158e41831f9c"
  },
  {
   "cell_type": "raw",
   "metadata": {
    "raw_mimetype": "text/html"
   },
   "source": [
    "<!-- # Eight eruptions have been recorded since the late 1400s (@fig-timeline). -->"
   ],
   "id": "ff27bc37-cce8-4c6e-8d85-fefe46efb780"
  },
  {
   "cell_type": "raw",
   "metadata": {
    "raw_mimetype": "text/html"
   },
   "source": [
    "<!-- #  -->"
   ],
   "id": "8e615b7d-ff85-424a-aa7a-8ba69ddfaf41"
  },
  {
   "cell_type": "raw",
   "metadata": {
    "raw_mimetype": "text/html"
   },
   "source": [
    "<!-- # Data and methods are discussed in @sec-data-methods. -->"
   ],
   "id": "d531d03d-7148-4aa1-9da4-4f0a0652ef4a"
  },
  {
   "cell_type": "raw",
   "metadata": {
    "raw_mimetype": "text/html"
   },
   "source": [
    "<!-- #  -->"
   ],
   "id": "d55963bf-11c6-4522-80a9-8108d5cedfbf"
  },
  {
   "cell_type": "raw",
   "metadata": {
    "raw_mimetype": "text/html"
   },
   "source": [
    "<!-- # Let $x$ denote the number of eruptions in a year. Then, $x$ can be modeled by a Poisson distribution -->"
   ],
   "id": "ed50cd34-62bc-4f25-bfe0-f239c5f150ae"
  },
  {
   "cell_type": "raw",
   "metadata": {
    "raw_mimetype": "text/html"
   },
   "source": [
    "<!-- #  -->"
   ],
   "id": "9dba2af6-06af-4dc2-b4b4-0670ceadcc51"
  },
  {
   "cell_type": "raw",
   "metadata": {
    "raw_mimetype": "text/html"
   },
   "source": [
    "<!-- # $$ -->"
   ],
   "id": "47fb8a73-4626-42e4-a4a8-bf16be179cd5"
  },
  {
   "cell_type": "raw",
   "metadata": {
    "raw_mimetype": "text/html"
   },
   "source": [
    "<!-- # p(x) = \\frac{e^{-\\lambda} \\lambda^{x}}{x !} -->"
   ],
   "id": "c30f88f8-50b6-4d85-8236-35fe037f89b5"
  },
  {
   "cell_type": "raw",
   "metadata": {
    "raw_mimetype": "text/html"
   },
   "source": [
    "<!-- # $$ {#eq-poisson} -->"
   ],
   "id": "c730c563-a958-4e42-94a0-86d5b18955e0"
  },
  {
   "cell_type": "raw",
   "metadata": {
    "raw_mimetype": "text/html"
   },
   "source": [
    "<!-- #  -->"
   ],
   "id": "04920682-28e7-4f1d-ad86-d88e33c39bf2"
  },
  {
   "cell_type": "raw",
   "metadata": {
    "raw_mimetype": "text/html"
   },
   "source": [
    "<!-- # where $\\lambda$ is the rate of eruptions per year. Using @eq-poisson, the probability of an eruption in the next $t$ years can be calculated. -->"
   ],
   "id": "0ff163cc-fc60-4769-9ebf-fa567a193a24"
  },
  {
   "cell_type": "raw",
   "metadata": {
    "raw_mimetype": "text/html"
   },
   "source": [
    "<!-- #  -->"
   ],
   "id": "afa3c8a7-aecc-4e49-9740-930319919a5e"
  },
  {
   "cell_type": "raw",
   "metadata": {
    "raw_mimetype": "text/html"
   },
   "source": [
    "<!-- # | Name                 | Year   | -->"
   ],
   "id": "6301101f-9a47-4a9a-803b-fa1a77e3e313"
  },
  {
   "cell_type": "raw",
   "metadata": {
    "raw_mimetype": "text/html"
   },
   "source": [
    "<!-- # | -------------------- | ------ | -->"
   ],
   "id": "cfe50f43-5dfc-4ed8-9307-425641446d3a"
  },
  {
   "cell_type": "raw",
   "metadata": {
    "raw_mimetype": "text/html"
   },
   "source": [
    "<!-- # | Current              | 2021   | -->"
   ],
   "id": "e54c768f-6fe2-469b-8563-eec0cd333c25"
  },
  {
   "cell_type": "raw",
   "metadata": {
    "raw_mimetype": "text/html"
   },
   "source": [
    "<!-- # | Teneguía             | 1971   | -->"
   ],
   "id": "e70989bf-c7a3-402f-8767-12fc6d8f3a0b"
  },
  {
   "cell_type": "raw",
   "metadata": {
    "raw_mimetype": "text/html"
   },
   "source": [
    "<!-- # | Nambroque            | 1949   | -->"
   ],
   "id": "a34515fb-4a6b-43d0-8856-e39c23117b22"
  },
  {
   "cell_type": "raw",
   "metadata": {
    "raw_mimetype": "text/html"
   },
   "source": [
    "<!-- # | El Charco            | 1712   | -->"
   ],
   "id": "a07708c2-5d38-46b4-bbbd-8a0d974636c7"
  },
  {
   "cell_type": "raw",
   "metadata": {
    "raw_mimetype": "text/html"
   },
   "source": [
    "<!-- # | Volcán San Antonio   | 1677   | -->"
   ],
   "id": "62f92887-0830-4836-b1a4-b067f17d6678"
  },
  {
   "cell_type": "raw",
   "metadata": {
    "raw_mimetype": "text/html"
   },
   "source": [
    "<!-- # | Volcán San Martin    | 1646   | -->"
   ],
   "id": "4b2d833b-e0dc-4e38-abc8-bf4c8e837ee1"
  },
  {
   "cell_type": "raw",
   "metadata": {
    "raw_mimetype": "text/html"
   },
   "source": [
    "<!-- # | Tajuya near El Paso  | 1585   | -->"
   ],
   "id": "97287c44-f680-4207-a391-b43dc0798edf"
  },
  {
   "cell_type": "raw",
   "metadata": {
    "raw_mimetype": "text/html"
   },
   "source": [
    "<!-- # | Montaña Quemada      | 1492   | -->"
   ],
   "id": "50b6361a-e6d7-4409-a5fa-ab6b1cfb631d"
  },
  {
   "cell_type": "raw",
   "metadata": {
    "raw_mimetype": "text/html"
   },
   "source": [
    "<!-- #  -->"
   ],
   "id": "d4339a59-4781-4d04-a5f8-082cb110546a"
  },
  {
   "cell_type": "raw",
   "metadata": {
    "raw_mimetype": "text/html"
   },
   "source": [
    "<!-- # : Recent historic eruptions on La Palma {#tbl-history} -->"
   ],
   "id": "4ccf0033-16f2-4ba1-bfb4-8aab8e965c39"
  },
  {
   "cell_type": "raw",
   "metadata": {
    "raw_mimetype": "text/html"
   },
   "source": [
    "<!-- #  -->"
   ],
   "id": "ffd50053-1095-47cc-82e0-58ba474be707"
  },
  {
   "cell_type": "raw",
   "metadata": {
    "raw_mimetype": "text/html"
   },
   "source": [
    "<!-- # @tbl-history summarises the eruptions recorded since the colonization of the islands by Europeans in the late 1400s. -->"
   ],
   "id": "b908fabf-ab24-49cd-90e5-aca44e66b662"
  },
  {
   "cell_type": "raw",
   "metadata": {
    "raw_mimetype": "text/html"
   },
   "source": [
    "<!-- #  -->"
   ],
   "id": "ce9acec1-17b9-4a6b-af9e-f5209f9cb6fc"
  },
  {
   "cell_type": "raw",
   "metadata": {
    "raw_mimetype": "text/html"
   },
   "source": [
    "<!-- # ![Map of La Palma](images/la-palma-map.png){#fig-map} -->"
   ],
   "id": "5fac2420-27d0-4fd2-8b2a-71d4333545d0"
  },
  {
   "cell_type": "raw",
   "metadata": {
    "raw_mimetype": "text/html"
   },
   "source": [
    "<!-- #  -->"
   ],
   "id": "498f1785-c864-420b-b5c4-57b0002e8ac7"
  },
  {
   "cell_type": "raw",
   "metadata": {
    "raw_mimetype": "text/html"
   },
   "source": [
    "<!-- # La Palma is one of the west most islands in the Volcanic Archipelago of the Canary Islands (@fig-map).  -->"
   ],
   "id": "b07ef236-1664-4743-b914-6ba06438d81e"
  },
  {
   "cell_type": "raw",
   "metadata": {
    "raw_mimetype": "text/html"
   },
   "source": [
    "<!-- #  -->"
   ],
   "id": "35c2c799-f8b1-4955-8332-fa91c837001e"
  },
  {
   "cell_type": "raw",
   "metadata": {
    "raw_mimetype": "text/html"
   },
   "source": [
    "<!-- # {{< embed notebooks/explore-earthquakes.qmd#fig-spatial-plot >}} -->"
   ],
   "id": "b2a8e6f9-8565-42da-8c57-78f1f0357e15"
  },
  {
   "cell_type": "raw",
   "metadata": {
    "raw_mimetype": "text/html"
   },
   "source": [
    "<!-- #  -->"
   ],
   "id": "59df16fd-17d2-462c-9aa0-9d6ccdd26a51"
  },
  {
   "cell_type": "raw",
   "metadata": {
    "raw_mimetype": "text/html"
   },
   "source": [
    "<!-- # @fig-spatial-plot shows the location of recent Earthquakes on La Palma. -->"
   ],
   "id": "dc6945c0-98ce-4c6a-bf38-93e354f90e07"
  },
  {
   "cell_type": "markdown",
   "metadata": {},
   "source": [
    "## 2 Data & Methods\n",
    "\n",
    "## 3 Conclusion\n",
    "\n",
    "## References"
   ],
   "id": "8dd36985-5d27-45bf-88d6-eaa2c7d82942"
  }
 ],
 "nbformat": 4,
 "nbformat_minor": 5,
 "metadata": {}
}
