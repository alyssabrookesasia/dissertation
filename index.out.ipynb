{
 "cells": [
  {
   "cell_type": "markdown",
   "metadata": {},
   "source": [
    "# Dissertation proposal\n",
    "\n",
    "A. Brooke Sasia [![](data:image/png;base64,iVBORw0KGgoAAAANSUhEUgAAABAAAAAQCAYAAAAf8/9hAAAAGXRFWHRTb2Z0d2FyZQBBZG9iZSBJbWFnZVJlYWR5ccllPAAAA2ZpVFh0WE1MOmNvbS5hZG9iZS54bXAAAAAAADw/eHBhY2tldCBiZWdpbj0i77u/IiBpZD0iVzVNME1wQ2VoaUh6cmVTek5UY3prYzlkIj8+IDx4OnhtcG1ldGEgeG1sbnM6eD0iYWRvYmU6bnM6bWV0YS8iIHg6eG1wdGs9IkFkb2JlIFhNUCBDb3JlIDUuMC1jMDYwIDYxLjEzNDc3NywgMjAxMC8wMi8xMi0xNzozMjowMCAgICAgICAgIj4gPHJkZjpSREYgeG1sbnM6cmRmPSJodHRwOi8vd3d3LnczLm9yZy8xOTk5LzAyLzIyLXJkZi1zeW50YXgtbnMjIj4gPHJkZjpEZXNjcmlwdGlvbiByZGY6YWJvdXQ9IiIgeG1sbnM6eG1wTU09Imh0dHA6Ly9ucy5hZG9iZS5jb20veGFwLzEuMC9tbS8iIHhtbG5zOnN0UmVmPSJodHRwOi8vbnMuYWRvYmUuY29tL3hhcC8xLjAvc1R5cGUvUmVzb3VyY2VSZWYjIiB4bWxuczp4bXA9Imh0dHA6Ly9ucy5hZG9iZS5jb20veGFwLzEuMC8iIHhtcE1NOk9yaWdpbmFsRG9jdW1lbnRJRD0ieG1wLmRpZDo1N0NEMjA4MDI1MjA2ODExOTk0QzkzNTEzRjZEQTg1NyIgeG1wTU06RG9jdW1lbnRJRD0ieG1wLmRpZDozM0NDOEJGNEZGNTcxMUUxODdBOEVCODg2RjdCQ0QwOSIgeG1wTU06SW5zdGFuY2VJRD0ieG1wLmlpZDozM0NDOEJGM0ZGNTcxMUUxODdBOEVCODg2RjdCQ0QwOSIgeG1wOkNyZWF0b3JUb29sPSJBZG9iZSBQaG90b3Nob3AgQ1M1IE1hY2ludG9zaCI+IDx4bXBNTTpEZXJpdmVkRnJvbSBzdFJlZjppbnN0YW5jZUlEPSJ4bXAuaWlkOkZDN0YxMTc0MDcyMDY4MTE5NUZFRDc5MUM2MUUwNEREIiBzdFJlZjpkb2N1bWVudElEPSJ4bXAuZGlkOjU3Q0QyMDgwMjUyMDY4MTE5OTRDOTM1MTNGNkRBODU3Ii8+IDwvcmRmOkRlc2NyaXB0aW9uPiA8L3JkZjpSREY+IDwveDp4bXBtZXRhPiA8P3hwYWNrZXQgZW5kPSJyIj8+84NovQAAAR1JREFUeNpiZEADy85ZJgCpeCB2QJM6AMQLo4yOL0AWZETSqACk1gOxAQN+cAGIA4EGPQBxmJA0nwdpjjQ8xqArmczw5tMHXAaALDgP1QMxAGqzAAPxQACqh4ER6uf5MBlkm0X4EGayMfMw/Pr7Bd2gRBZogMFBrv01hisv5jLsv9nLAPIOMnjy8RDDyYctyAbFM2EJbRQw+aAWw/LzVgx7b+cwCHKqMhjJFCBLOzAR6+lXX84xnHjYyqAo5IUizkRCwIENQQckGSDGY4TVgAPEaraQr2a4/24bSuoExcJCfAEJihXkWDj3ZAKy9EJGaEo8T0QSxkjSwORsCAuDQCD+QILmD1A9kECEZgxDaEZhICIzGcIyEyOl2RkgwAAhkmC+eAm0TAAAAABJRU5ErkJggg==)](https://orcid.org/0000-0002-1311-6606) (Department of Psychology, University of Wisconsin-Madison, Waisman Center, University of Wisconsin-Madison, Center for Demography on Health and Aging, University of Wisconsin-Madison)  \n",
    "James J. Li [![](data:image/png;base64,iVBORw0KGgoAAAANSUhEUgAAABAAAAAQCAYAAAAf8/9hAAAAGXRFWHRTb2Z0d2FyZQBBZG9iZSBJbWFnZVJlYWR5ccllPAAAA2ZpVFh0WE1MOmNvbS5hZG9iZS54bXAAAAAAADw/eHBhY2tldCBiZWdpbj0i77u/IiBpZD0iVzVNME1wQ2VoaUh6cmVTek5UY3prYzlkIj8+IDx4OnhtcG1ldGEgeG1sbnM6eD0iYWRvYmU6bnM6bWV0YS8iIHg6eG1wdGs9IkFkb2JlIFhNUCBDb3JlIDUuMC1jMDYwIDYxLjEzNDc3NywgMjAxMC8wMi8xMi0xNzozMjowMCAgICAgICAgIj4gPHJkZjpSREYgeG1sbnM6cmRmPSJodHRwOi8vd3d3LnczLm9yZy8xOTk5LzAyLzIyLXJkZi1zeW50YXgtbnMjIj4gPHJkZjpEZXNjcmlwdGlvbiByZGY6YWJvdXQ9IiIgeG1sbnM6eG1wTU09Imh0dHA6Ly9ucy5hZG9iZS5jb20veGFwLzEuMC9tbS8iIHhtbG5zOnN0UmVmPSJodHRwOi8vbnMuYWRvYmUuY29tL3hhcC8xLjAvc1R5cGUvUmVzb3VyY2VSZWYjIiB4bWxuczp4bXA9Imh0dHA6Ly9ucy5hZG9iZS5jb20veGFwLzEuMC8iIHhtcE1NOk9yaWdpbmFsRG9jdW1lbnRJRD0ieG1wLmRpZDo1N0NEMjA4MDI1MjA2ODExOTk0QzkzNTEzRjZEQTg1NyIgeG1wTU06RG9jdW1lbnRJRD0ieG1wLmRpZDozM0NDOEJGNEZGNTcxMUUxODdBOEVCODg2RjdCQ0QwOSIgeG1wTU06SW5zdGFuY2VJRD0ieG1wLmlpZDozM0NDOEJGM0ZGNTcxMUUxODdBOEVCODg2RjdCQ0QwOSIgeG1wOkNyZWF0b3JUb29sPSJBZG9iZSBQaG90b3Nob3AgQ1M1IE1hY2ludG9zaCI+IDx4bXBNTTpEZXJpdmVkRnJvbSBzdFJlZjppbnN0YW5jZUlEPSJ4bXAuaWlkOkZDN0YxMTc0MDcyMDY4MTE5NUZFRDc5MUM2MUUwNEREIiBzdFJlZjpkb2N1bWVudElEPSJ4bXAuZGlkOjU3Q0QyMDgwMjUyMDY4MTE5OTRDOTM1MTNGNkRBODU3Ii8+IDwvcmRmOkRlc2NyaXB0aW9uPiA8L3JkZjpSREY+IDwveDp4bXBtZXRhPiA8P3hwYWNrZXQgZW5kPSJyIj8+84NovQAAAR1JREFUeNpiZEADy85ZJgCpeCB2QJM6AMQLo4yOL0AWZETSqACk1gOxAQN+cAGIA4EGPQBxmJA0nwdpjjQ8xqArmczw5tMHXAaALDgP1QMxAGqzAAPxQACqh4ER6uf5MBlkm0X4EGayMfMw/Pr7Bd2gRBZogMFBrv01hisv5jLsv9nLAPIOMnjy8RDDyYctyAbFM2EJbRQw+aAWw/LzVgx7b+cwCHKqMhjJFCBLOzAR6+lXX84xnHjYyqAo5IUizkRCwIENQQckGSDGY4TVgAPEaraQr2a4/24bSuoExcJCfAEJihXkWDj3ZAKy9EJGaEo8T0QSxkjSwORsCAuDQCD+QILmD1A9kECEZgxDaEZhICIzGcIyEyOl2RkgwAAhkmC+eAm0TAAAAABJRU5ErkJggg==)](https://orcid.org/0000-0001-8031-7216) (Department of Psychology, University of Wisconsin-Madison, Waisman Center, University of Wisconsin-Madison, Center for Demography on Health and Aging, University of Wisconsin-Madison)  \n",
    "December 17, 2024\n",
    "\n",
    "In September 2021, a significant jump in seismic activity on the island of La Palma (Canary Islands, Spain) signaledn the start of a volcanic crisis that still continues at the time of writing. Earthquake data is continually collected and published by the Instituto Geográphico Nacional (IGN). …\n",
    "\n",
    "## 1 Introduction"
   ],
   "id": "865995a2-23d1-472f-a7ba-8959397ebf86"
  },
  {
   "cell_type": "raw",
   "metadata": {
    "raw_mimetype": "text/html"
   },
   "source": [
    "<!-- # ```{r} -->"
   ],
   "id": "d0447f38-6e3b-403d-948c-0b58955f4f4f"
  },
  {
   "cell_type": "raw",
   "metadata": {
    "raw_mimetype": "text/html"
   },
   "source": [
    "<!-- # #| include: false -->"
   ],
   "id": "ef01d077-d10a-46ef-b945-97a9f5f4107b"
  },
  {
   "cell_type": "raw",
   "metadata": {
    "raw_mimetype": "text/html"
   },
   "source": [
    "<!-- #  -->"
   ],
   "id": "eb780ed1-008b-4253-99c1-a1dc10f4daf1"
  },
  {
   "cell_type": "raw",
   "metadata": {
    "raw_mimetype": "text/html"
   },
   "source": [
    "<!-- # eruptions <- c(1492, 1585, 1646, 1677, 1712, 1949, 1971, 2021) -->"
   ],
   "id": "7592e296-200b-4b63-aecd-dbce8b8d6d40"
  },
  {
   "cell_type": "raw",
   "metadata": {
    "raw_mimetype": "text/html"
   },
   "source": [
    "<!-- # n_eruptions <- length(eruptions) -->"
   ],
   "id": "4bf1cbb5-c682-4eda-be4d-d792e45270ed"
  },
  {
   "cell_type": "raw",
   "metadata": {
    "raw_mimetype": "text/html"
   },
   "source": [
    "<!-- # ``` -->"
   ],
   "id": "ebf87fbb-10ab-43b8-ad33-ffb5b0147ad2"
  },
  {
   "cell_type": "raw",
   "metadata": {
    "raw_mimetype": "text/html"
   },
   "source": [
    "<!-- #  -->"
   ],
   "id": "ef695191-631b-402b-bc21-934802bff84c"
  },
  {
   "cell_type": "raw",
   "metadata": {
    "raw_mimetype": "text/html"
   },
   "source": [
    "<!-- # ```{r} -->"
   ],
   "id": "70b33ea1-4a4c-456d-a624-8ee8c4403ed3"
  },
  {
   "cell_type": "raw",
   "metadata": {
    "raw_mimetype": "text/html"
   },
   "source": [
    "<!-- # #| label: fig-timeline -->"
   ],
   "id": "395698d5-27cd-4146-8af8-311ff1c66afa"
  },
  {
   "cell_type": "raw",
   "metadata": {
    "raw_mimetype": "text/html"
   },
   "source": [
    "<!-- # #| fig-cap: Timeline of recent earthquakes on La Palma -->"
   ],
   "id": "cb7f4015-38a7-494b-ab1d-8aca780642dd"
  },
  {
   "cell_type": "raw",
   "metadata": {
    "raw_mimetype": "text/html"
   },
   "source": [
    "<!-- # #| fig-alt: An event plot of the years of the last 8 eruptions on La Palma. -->"
   ],
   "id": "fbcd0e8a-284a-4d72-92e2-f131ec40cc25"
  },
  {
   "cell_type": "raw",
   "metadata": {
    "raw_mimetype": "text/html"
   },
   "source": [
    "<!-- # #| fig-height: 1.5 -->"
   ],
   "id": "45860d6e-04ec-41d4-b19f-e9c858ec91f1"
  },
  {
   "cell_type": "raw",
   "metadata": {
    "raw_mimetype": "text/html"
   },
   "source": [
    "<!-- # #| fig-width: 6 -->"
   ],
   "id": "e7fac86e-61df-4445-857d-2dce35e5c94e"
  },
  {
   "cell_type": "raw",
   "metadata": {
    "raw_mimetype": "text/html"
   },
   "source": [
    "<!-- # par(mar = c(3, 1, 1, 1) + 0.1) -->"
   ],
   "id": "500eafd1-fe76-46bb-9440-d7e14e3c5348"
  },
  {
   "cell_type": "raw",
   "metadata": {
    "raw_mimetype": "text/html"
   },
   "source": [
    "<!-- # plot(eruptions, rep(0, n_eruptions),  -->"
   ],
   "id": "0ba5ab4c-635a-4163-b61d-4724f1e28d4c"
  },
  {
   "cell_type": "raw",
   "metadata": {
    "raw_mimetype": "text/html"
   },
   "source": [
    "<!-- #   pch = \"|\", axes = FALSE) -->"
   ],
   "id": "df1e2c04-4f2b-45d6-9ebb-369abc8124b5"
  },
  {
   "cell_type": "raw",
   "metadata": {
    "raw_mimetype": "text/html"
   },
   "source": [
    "<!-- # axis(1) -->"
   ],
   "id": "34000d54-ef7c-478a-8734-4f5f1b189f54"
  },
  {
   "cell_type": "raw",
   "metadata": {
    "raw_mimetype": "text/html"
   },
   "source": [
    "<!-- # box() -->"
   ],
   "id": "e8122d32-4250-45f4-85f4-4165b5045acd"
  },
  {
   "cell_type": "raw",
   "metadata": {
    "raw_mimetype": "text/html"
   },
   "source": [
    "<!-- # ``` -->"
   ],
   "id": "29e5c54d-74a0-4d81-a142-cb403eb99cb3"
  },
  {
   "cell_type": "raw",
   "metadata": {
    "raw_mimetype": "text/html"
   },
   "source": [
    "<!-- #  -->"
   ],
   "id": "e4492d16-9202-4e76-9e9b-d2b32cb1c386"
  },
  {
   "cell_type": "raw",
   "metadata": {
    "raw_mimetype": "text/html"
   },
   "source": [
    "<!-- # ```{r} -->"
   ],
   "id": "f9873639-c5b8-432c-a195-9e1309799988"
  },
  {
   "cell_type": "raw",
   "metadata": {
    "raw_mimetype": "text/html"
   },
   "source": [
    "<!-- # #| output: false -->"
   ],
   "id": "29c0f6df-fd4f-4d07-89a8-b4fdda9e09bb"
  },
  {
   "cell_type": "raw",
   "metadata": {
    "raw_mimetype": "text/html"
   },
   "source": [
    "<!-- # avg_years_between_eruptions <- mean(diff(eruptions[-n_eruptions])) -->"
   ],
   "id": "772b18d2-2ee5-44b3-8bfb-da1629704365"
  },
  {
   "cell_type": "raw",
   "metadata": {
    "raw_mimetype": "text/html"
   },
   "source": [
    "<!-- # avg_years_between_eruptions -->"
   ],
   "id": "ceef8404-ff6e-44cd-96e5-f452a696daec"
  },
  {
   "cell_type": "raw",
   "metadata": {
    "raw_mimetype": "text/html"
   },
   "source": [
    "<!-- # ``` -->"
   ],
   "id": "5942922e-954d-46d5-a849-642d56c3be07"
  },
  {
   "cell_type": "raw",
   "metadata": {
    "raw_mimetype": "text/html"
   },
   "source": [
    "<!-- #  -->"
   ],
   "id": "6ea7f147-6989-45ef-b806-03c60bb7f671"
  },
  {
   "cell_type": "raw",
   "metadata": {
    "raw_mimetype": "text/html"
   },
   "source": [
    "<!-- # Based on data up to and including 1971, eruptions on La Palma happen every `{r} round(avg_years_between_eruptions, 1)` years on average. -->"
   ],
   "id": "27aea3af-cabb-42db-896c-d0258ef217a0"
  },
  {
   "cell_type": "raw",
   "metadata": {
    "raw_mimetype": "text/html"
   },
   "source": [
    "<!-- #  -->"
   ],
   "id": "bbe8d19a-f717-431b-a5fc-4b740fece344"
  },
  {
   "cell_type": "raw",
   "metadata": {
    "raw_mimetype": "text/html"
   },
   "source": [
    "<!-- # Studies of the magma systems feeding the volcano, such as @marrero2019, have proposed that there are two main magma reservoirs feeding the Cumbre Vieja volcano; one in the mantle (30-40km depth) which charges and in turn feeds a shallower crustal reservoir (10-20km depth). -->"
   ],
   "id": "d87d09e6-ec66-493a-b729-bd575bb74222"
  },
  {
   "cell_type": "raw",
   "metadata": {
    "raw_mimetype": "text/html"
   },
   "source": [
    "<!-- #  -->"
   ],
   "id": "77fe88cc-5c16-41b1-83e2-e2830c080734"
  },
  {
   "cell_type": "raw",
   "metadata": {
    "raw_mimetype": "text/html"
   },
   "source": [
    "<!-- # Eight eruptions have been recorded since the late 1400s (@fig-timeline). -->"
   ],
   "id": "ef62b234-03a3-48df-a7dd-2eb2453a7021"
  },
  {
   "cell_type": "raw",
   "metadata": {
    "raw_mimetype": "text/html"
   },
   "source": [
    "<!-- #  -->"
   ],
   "id": "ae402ce0-8ce1-4ca0-bd1b-c66f66558c82"
  },
  {
   "cell_type": "raw",
   "metadata": {
    "raw_mimetype": "text/html"
   },
   "source": [
    "<!-- # Data and methods are discussed in @sec-data-methods. -->"
   ],
   "id": "dc3752b9-fc1b-4d94-83e8-1f14e4cebf3f"
  },
  {
   "cell_type": "raw",
   "metadata": {
    "raw_mimetype": "text/html"
   },
   "source": [
    "<!-- #  -->"
   ],
   "id": "ac8e8502-b078-4bbb-b188-95be07249faf"
  },
  {
   "cell_type": "raw",
   "metadata": {
    "raw_mimetype": "text/html"
   },
   "source": [
    "<!-- # Let $x$ denote the number of eruptions in a year. Then, $x$ can be modeled by a Poisson distribution -->"
   ],
   "id": "bdf35d13-5aa3-4566-ae93-c62b7f9b30ec"
  },
  {
   "cell_type": "raw",
   "metadata": {
    "raw_mimetype": "text/html"
   },
   "source": [
    "<!-- #  -->"
   ],
   "id": "a06d2756-e743-4272-b856-eff8eb0b57d3"
  },
  {
   "cell_type": "raw",
   "metadata": {
    "raw_mimetype": "text/html"
   },
   "source": [
    "<!-- # $$ -->"
   ],
   "id": "0a355597-6cc7-47db-9971-0db835d4681e"
  },
  {
   "cell_type": "raw",
   "metadata": {
    "raw_mimetype": "text/html"
   },
   "source": [
    "<!-- # p(x) = \\frac{e^{-\\lambda} \\lambda^{x}}{x !} -->"
   ],
   "id": "77631511-2cd6-4b7d-a707-07fbb4b13796"
  },
  {
   "cell_type": "raw",
   "metadata": {
    "raw_mimetype": "text/html"
   },
   "source": [
    "<!-- # $$ {#eq-poisson} -->"
   ],
   "id": "fd54a1de-4da9-4b8a-b084-cdedde015837"
  },
  {
   "cell_type": "raw",
   "metadata": {
    "raw_mimetype": "text/html"
   },
   "source": [
    "<!-- #  -->"
   ],
   "id": "ab5fb4bf-3e81-490b-a89e-8ce7b3cbc897"
  },
  {
   "cell_type": "raw",
   "metadata": {
    "raw_mimetype": "text/html"
   },
   "source": [
    "<!-- # where $\\lambda$ is the rate of eruptions per year. Using @eq-poisson, the probability of an eruption in the next $t$ years can be calculated. -->"
   ],
   "id": "87437589-49d1-4434-bc40-79e1b3670436"
  },
  {
   "cell_type": "raw",
   "metadata": {
    "raw_mimetype": "text/html"
   },
   "source": [
    "<!-- #  -->"
   ],
   "id": "d8eeb1c9-1152-44f0-a6ed-109e90da915a"
  },
  {
   "cell_type": "raw",
   "metadata": {
    "raw_mimetype": "text/html"
   },
   "source": [
    "<!-- # | Name                 | Year   | -->"
   ],
   "id": "b4097007-7dc6-4f32-a136-c918fb3b78b5"
  },
  {
   "cell_type": "raw",
   "metadata": {
    "raw_mimetype": "text/html"
   },
   "source": [
    "<!-- # | -------------------- | ------ | -->"
   ],
   "id": "336fc606-771f-4851-ae14-6d822d78bf0f"
  },
  {
   "cell_type": "raw",
   "metadata": {
    "raw_mimetype": "text/html"
   },
   "source": [
    "<!-- # | Current              | 2021   | -->"
   ],
   "id": "7d80fbaa-3177-4c63-b644-9e20aea502b3"
  },
  {
   "cell_type": "raw",
   "metadata": {
    "raw_mimetype": "text/html"
   },
   "source": [
    "<!-- # | Teneguía             | 1971   | -->"
   ],
   "id": "40e9c392-a962-48a0-9712-a1f6b343869f"
  },
  {
   "cell_type": "raw",
   "metadata": {
    "raw_mimetype": "text/html"
   },
   "source": [
    "<!-- # | Nambroque            | 1949   | -->"
   ],
   "id": "9b45034c-86e4-4198-84b6-862fee5b4653"
  },
  {
   "cell_type": "raw",
   "metadata": {
    "raw_mimetype": "text/html"
   },
   "source": [
    "<!-- # | El Charco            | 1712   | -->"
   ],
   "id": "609af197-24a6-4a14-8e49-fcb0ac70558f"
  },
  {
   "cell_type": "raw",
   "metadata": {
    "raw_mimetype": "text/html"
   },
   "source": [
    "<!-- # | Volcán San Antonio   | 1677   | -->"
   ],
   "id": "f7685f4e-65ad-465a-901b-3c04ac5cbcd1"
  },
  {
   "cell_type": "raw",
   "metadata": {
    "raw_mimetype": "text/html"
   },
   "source": [
    "<!-- # | Volcán San Martin    | 1646   | -->"
   ],
   "id": "8aaba7a6-b40a-435b-8162-abc627cbf67e"
  },
  {
   "cell_type": "raw",
   "metadata": {
    "raw_mimetype": "text/html"
   },
   "source": [
    "<!-- # | Tajuya near El Paso  | 1585   | -->"
   ],
   "id": "f2e77819-91de-4b65-ba54-42bdf822635a"
  },
  {
   "cell_type": "raw",
   "metadata": {
    "raw_mimetype": "text/html"
   },
   "source": [
    "<!-- # | Montaña Quemada      | 1492   | -->"
   ],
   "id": "78d94ea4-14ff-4c9f-9528-7f0212f5131b"
  },
  {
   "cell_type": "raw",
   "metadata": {
    "raw_mimetype": "text/html"
   },
   "source": [
    "<!-- #  -->"
   ],
   "id": "772ff7fd-a070-4a27-8f25-6a651fd1d590"
  },
  {
   "cell_type": "raw",
   "metadata": {
    "raw_mimetype": "text/html"
   },
   "source": [
    "<!-- # : Recent historic eruptions on La Palma {#tbl-history} -->"
   ],
   "id": "7ae79cef-7b6e-4727-9a99-44a83f814c9f"
  },
  {
   "cell_type": "raw",
   "metadata": {
    "raw_mimetype": "text/html"
   },
   "source": [
    "<!-- #  -->"
   ],
   "id": "84509d68-a98a-4b40-ab8a-d120ba08963a"
  },
  {
   "cell_type": "raw",
   "metadata": {
    "raw_mimetype": "text/html"
   },
   "source": [
    "<!-- # @tbl-history summarises the eruptions recorded since the colonization of the islands by Europeans in the late 1400s. -->"
   ],
   "id": "74d7f5b6-f802-4b98-bb4a-d2edbd07d569"
  },
  {
   "cell_type": "raw",
   "metadata": {
    "raw_mimetype": "text/html"
   },
   "source": [
    "<!-- #  -->"
   ],
   "id": "179cac6d-b90e-4c11-b755-0dfbfeb27302"
  },
  {
   "cell_type": "raw",
   "metadata": {
    "raw_mimetype": "text/html"
   },
   "source": [
    "<!-- # ![Map of La Palma](images/la-palma-map.png){#fig-map} -->"
   ],
   "id": "fc4ff69b-8b4c-43ee-b426-1678d795e8b6"
  },
  {
   "cell_type": "raw",
   "metadata": {
    "raw_mimetype": "text/html"
   },
   "source": [
    "<!-- #  -->"
   ],
   "id": "9cabe3da-26b3-4d13-8f8d-3508157ff248"
  },
  {
   "cell_type": "raw",
   "metadata": {
    "raw_mimetype": "text/html"
   },
   "source": [
    "<!-- # La Palma is one of the west most islands in the Volcanic Archipelago of the Canary Islands (@fig-map).  -->"
   ],
   "id": "798e7f45-e984-4ac1-925f-af7c7af80181"
  },
  {
   "cell_type": "raw",
   "metadata": {
    "raw_mimetype": "text/html"
   },
   "source": [
    "<!-- #  -->"
   ],
   "id": "973b1279-b628-4175-bfe2-395c95090c41"
  },
  {
   "cell_type": "raw",
   "metadata": {
    "raw_mimetype": "text/html"
   },
   "source": [
    "<!-- # {{< embed notebooks/explore-earthquakes.qmd#fig-spatial-plot >}} -->"
   ],
   "id": "7111bfde-3db0-481f-bac6-3b2379a05cb7"
  },
  {
   "cell_type": "raw",
   "metadata": {
    "raw_mimetype": "text/html"
   },
   "source": [
    "<!-- #  -->"
   ],
   "id": "a0f397e2-77f7-4d0c-aef9-640d59f714b4"
  },
  {
   "cell_type": "raw",
   "metadata": {
    "raw_mimetype": "text/html"
   },
   "source": [
    "<!-- # @fig-spatial-plot shows the location of recent Earthquakes on La Palma. -->"
   ],
   "id": "3c16932b-5d3b-433a-bacb-14d4e8351762"
  },
  {
   "cell_type": "markdown",
   "metadata": {},
   "source": [
    "## 2 Data & Methods\n",
    "\n",
    "## 3 Conclusion\n",
    "\n",
    "## References"
   ],
   "id": "aef34baa-241e-4132-8794-c498f8c162e9"
  }
 ],
 "nbformat": 4,
 "nbformat_minor": 5,
 "metadata": {}
}
